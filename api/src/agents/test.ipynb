{
 "cells": [
  {
   "cell_type": "code",
   "execution_count": 13,
   "metadata": {},
   "outputs": [
    {
     "ename": "ValueError",
     "evalue": "File path ['/Users/yuriivoievidka/UCU/GenAI/rag-math-tutor/data/pdfs/Lay_Matrix_Algebra_97.pdf', '/Users/yuriivoievidka/UCU/GenAI/rag-math-tutor/data/pdfs/Lay_Vector_Spaces_201-255.pdf'] is not a valid file or url",
     "output_type": "error",
     "traceback": [
      "\u001b[0;31m---------------------------------------------------------------------------\u001b[0m",
      "\u001b[0;31mValueError\u001b[0m                                Traceback (most recent call last)",
      "Cell \u001b[0;32mIn[13], line 5\u001b[0m\n\u001b[1;32m      2\u001b[0m \u001b[38;5;28;01mimport\u001b[39;00m \u001b[38;5;21;01mos\u001b[39;00m\n\u001b[1;32m      4\u001b[0m file_path \u001b[38;5;241m=\u001b[39m os\u001b[38;5;241m.\u001b[39mwalk(\u001b[38;5;124m\"\u001b[39m\u001b[38;5;124m/Users/yuriivoievidka/UCU/GenAI/rag-math-tutor/data/pdfs\u001b[39m\u001b[38;5;124m\"\u001b[39m)\n\u001b[0;32m----> 5\u001b[0m loader \u001b[38;5;241m=\u001b[39m \u001b[43mPyPDFLoader\u001b[49m\u001b[43m(\u001b[49m\u001b[43m[\u001b[49m\u001b[38;5;124;43m\"\u001b[39;49m\u001b[38;5;124;43m/Users/yuriivoievidka/UCU/GenAI/rag-math-tutor/data/pdfs/Lay_Matrix_Algebra_97.pdf\u001b[39;49m\u001b[38;5;124;43m\"\u001b[39;49m\u001b[43m,\u001b[49m\u001b[43m \u001b[49m\n\u001b[1;32m      6\u001b[0m \u001b[43m \u001b[49m\u001b[38;5;124;43m\"\u001b[39;49m\u001b[38;5;124;43m/Users/yuriivoievidka/UCU/GenAI/rag-math-tutor/data/pdfs/Lay_Vector_Spaces_201-255.pdf\u001b[39;49m\u001b[38;5;124;43m\"\u001b[39;49m\u001b[43m]\u001b[49m\u001b[43m)\u001b[49m\n\u001b[1;32m      7\u001b[0m pages \u001b[38;5;241m=\u001b[39m []\n\u001b[1;32m      8\u001b[0m \u001b[38;5;28;01masync\u001b[39;00m \u001b[38;5;28;01mfor\u001b[39;00m page \u001b[38;5;129;01min\u001b[39;00m loader\u001b[38;5;241m.\u001b[39malazy_load():\n",
      "File \u001b[0;32m~/.pyenv/versions/3.12.7/envs/torch/lib/python3.12/site-packages/langchain_community/document_loaders/pdf.py:241\u001b[0m, in \u001b[0;36mPyPDFLoader.__init__\u001b[0;34m(self, file_path, password, headers, extract_images, extraction_mode, extraction_kwargs)\u001b[0m\n\u001b[1;32m    237\u001b[0m \u001b[38;5;28;01mexcept\u001b[39;00m \u001b[38;5;167;01mImportError\u001b[39;00m:\n\u001b[1;32m    238\u001b[0m     \u001b[38;5;28;01mraise\u001b[39;00m \u001b[38;5;167;01mImportError\u001b[39;00m(\n\u001b[1;32m    239\u001b[0m         \u001b[38;5;124m\"\u001b[39m\u001b[38;5;124mpypdf package not found, please install it with `pip install pypdf`\u001b[39m\u001b[38;5;124m\"\u001b[39m\n\u001b[1;32m    240\u001b[0m     )\n\u001b[0;32m--> 241\u001b[0m \u001b[38;5;28;43msuper\u001b[39;49m\u001b[43m(\u001b[49m\u001b[43m)\u001b[49m\u001b[38;5;241;43m.\u001b[39;49m\u001b[38;5;21;43m__init__\u001b[39;49m\u001b[43m(\u001b[49m\u001b[43mfile_path\u001b[49m\u001b[43m,\u001b[49m\u001b[43m \u001b[49m\u001b[43mheaders\u001b[49m\u001b[38;5;241;43m=\u001b[39;49m\u001b[43mheaders\u001b[49m\u001b[43m)\u001b[49m\n\u001b[1;32m    242\u001b[0m \u001b[38;5;28mself\u001b[39m\u001b[38;5;241m.\u001b[39mparser \u001b[38;5;241m=\u001b[39m PyPDFParser(\n\u001b[1;32m    243\u001b[0m     password\u001b[38;5;241m=\u001b[39mpassword,\n\u001b[1;32m    244\u001b[0m     extract_images\u001b[38;5;241m=\u001b[39mextract_images,\n\u001b[1;32m    245\u001b[0m     extraction_mode\u001b[38;5;241m=\u001b[39mextraction_mode,\n\u001b[1;32m    246\u001b[0m     extraction_kwargs\u001b[38;5;241m=\u001b[39mextraction_kwargs,\n\u001b[1;32m    247\u001b[0m )\n",
      "File \u001b[0;32m~/.pyenv/versions/3.12.7/envs/torch/lib/python3.12/site-packages/langchain_community/document_loaders/pdf.py:117\u001b[0m, in \u001b[0;36mBasePDFLoader.__init__\u001b[0;34m(self, file_path, headers)\u001b[0m\n\u001b[1;32m    115\u001b[0m         \u001b[38;5;28mself\u001b[39m\u001b[38;5;241m.\u001b[39mfile_path \u001b[38;5;241m=\u001b[39m \u001b[38;5;28mstr\u001b[39m(temp_pdf)\n\u001b[1;32m    116\u001b[0m \u001b[38;5;28;01melif\u001b[39;00m \u001b[38;5;129;01mnot\u001b[39;00m os\u001b[38;5;241m.\u001b[39mpath\u001b[38;5;241m.\u001b[39misfile(\u001b[38;5;28mself\u001b[39m\u001b[38;5;241m.\u001b[39mfile_path):\n\u001b[0;32m--> 117\u001b[0m     \u001b[38;5;28;01mraise\u001b[39;00m \u001b[38;5;167;01mValueError\u001b[39;00m(\u001b[38;5;124m\"\u001b[39m\u001b[38;5;124mFile path \u001b[39m\u001b[38;5;132;01m%s\u001b[39;00m\u001b[38;5;124m is not a valid file or url\u001b[39m\u001b[38;5;124m\"\u001b[39m \u001b[38;5;241m%\u001b[39m \u001b[38;5;28mself\u001b[39m\u001b[38;5;241m.\u001b[39mfile_path)\n",
      "\u001b[0;31mValueError\u001b[0m: File path ['/Users/yuriivoievidka/UCU/GenAI/rag-math-tutor/data/pdfs/Lay_Matrix_Algebra_97.pdf', '/Users/yuriivoievidka/UCU/GenAI/rag-math-tutor/data/pdfs/Lay_Vector_Spaces_201-255.pdf'] is not a valid file or url"
     ]
    }
   ],
   "source": [
    "from langchain_community.document_loaders import PyPDFLoader\n",
    "import os\n",
    "\n",
    "file_path = os.walk(\"/Users/yuriivoievidka/UCU/GenAI/rag-math-tutor/data/pdfs\")\n",
    "loader = PyPDFLoader([\"/Users/yuriivoievidka/UCU/GenAI/rag-math-tutor/data/pdfs/Lay_Matrix_Algebra_97.pdf\", \n",
    " \"/Users/yuriivoievidka/UCU/GenAI/rag-math-tutor/data/pdfs/Lay_Vector_Spaces_201-255.pdf\"])\n",
    "pages = []\n",
    "async for page in loader.alazy_load():\n",
    "    pages.append(page)"
   ]
  },
  {
   "cell_type": "code",
   "execution_count": 5,
   "metadata": {},
   "outputs": [
    {
     "name": "stdout",
     "output_type": "stream",
     "text": [
      "{'source': '/Users/yuriivoievidka/UCU/GenAI/rag-math-tutor/data/pdfs/Lay_Linear_Systems_1-67.pdf', 'page': 1}\n",
      "\n",
      "1.1 Systems of Linear Equations 3 \n",
      "A system of linear equations (or a linear system) is a collection of one or more \n",
      "linear equations involving the same variables-say , x 1 , .. • , x,,. An example is \n",
      "2x1 - X2 + l . 5X 3 = 8 \n",
      "X1 4X 3 = -7 \n",
      "(2) \n",
      "A solution of the system is a list (s 1 , s 2 , ... , sn) of numbers that makes each e quation a \n",
      "true statement when the values s 1 , • . • , Sn are s ub st ituted for x 1 , • • . , Xn, re spec ti ve ly . For \n",
      "instance , (5, 6.5, 3) is a solution of system (2) because , when these values are substituted \n",
      "in (2) for x 1 , x 2 , x 3 , respectively, the equations simplify to 8 = 8 and - 7 = - 7. \n",
      "The set of all pos s ible solutions is called the solution set of the linear syste m . Two \n",
      "linear systems are called equivalent if they ha ve the same solution set. That is , each \n",
      "solution of the first system is a solution of the second syste m, and each solution of the \n",
      "se cond sys tem is a so lution of the fir st. \n",
      "Finding the solution set of a system of two linear equations in two variables is easy \n",
      "because it amounts to finding the intersection of two lines. A typical problem is \n",
      "X 1 - 2X2 = -1 \n",
      "-X1 + 3X2 = 3 \n",
      "The graphs of the se equations are line s, which we denote b y e 1 and f 2 . A pair of number s \n",
      "(x 1 , x 2 ) satisfies both equations in the system if and only if the point (x 1 , x 2 ) lies on both \n",
      "f 1 and f 2 . In the system above, the solution is the single point (3, 2), as you can easily \n",
      "verify. See Figure 1. \n",
      "C 1 \n",
      "FIGURE 1 Exactl y on e s olut ion. \n",
      "Of course, two line s need not inter sec t in a s in g le point-they could be parallel , or \n",
      "they could coincide and hence \" intersect \" at every point on the line. Figure 2 shows the \n",
      "graphs that correspond to the following systems: \n",
      "(a) x1 - 2x2 = - 1 \n",
      "- X 1 + 2x2 = 3 \n",
      "(b) X 1 - 2X2= - l \n",
      "- X 1 + 2X2 = 1 \n",
      "Figures 1 a nd 2 illustrate the following general fact about linear systems , to be \n",
      "verified in Section 1.2. \n",
      "( a) ( b ) \n",
      "FIGURE 2 (a ) No s olution . ( b ) Infinite ly man y so lution s. \n"
     ]
    }
   ],
   "source": [
    "print(f\"{pages[1].metadata}\\n\")\n",
    "print(pages[3].page_content)"
   ]
  },
  {
   "cell_type": "code",
   "execution_count": 31,
   "metadata": {},
   "outputs": [
    {
     "data": {
      "text/plain": [
       "['Lay_Matrix_Algebra_97.pdf',\n",
       " 'Lay_Vector_Spaces_201-255.pdf',\n",
       " 'Lay_Linear_Systems_1-67.pdf']"
      ]
     },
     "execution_count": 31,
     "metadata": {},
     "output_type": "execute_result"
    }
   ],
   "source": [
    "import os\n",
    "\n",
    "paths = os.listdir(\"/Users/yuriivoievidka/UCU/GenAI/rag-math-tutor/data/pdfs/\")\n",
    "BASE_PATH = \"/Users/yuriivoievidka/UCU/GenAI/rag-math-tutor/data/pdfs\"\n",
    "os.listdir(BASE_PATH)"
   ]
  },
  {
   "cell_type": "code",
   "execution_count": 26,
   "metadata": {},
   "outputs": [
    {
     "data": {
      "text/plain": [
       "['/Users/yuriivoievidka/UCU/GenAI/rag-math-tutor/data/pdfs/Lay_Matrix_Algebra_97.pdf',\n",
       " '/Users/yuriivoievidka/UCU/GenAI/rag-math-tutor/data/pdfs/Lay_Vector_Spaces_201-255.pdf']"
      ]
     },
     "execution_count": 26,
     "metadata": {},
     "output_type": "execute_result"
    }
   ],
   "source": [
    "[\"/Users/yuriivoievidka/UCU/GenAI/rag-math-tutor/data/pdfs/Lay_Matrix_Algebra_97.pdf\", \n",
    " \"/Users/yuriivoievidka/UCU/GenAI/rag-math-tutor/data/pdfs/Lay_Vector_Spaces_201-255.pdf\"]"
   ]
  },
  {
   "cell_type": "code",
   "execution_count": 27,
   "metadata": {},
   "outputs": [
    {
     "name": "stdout",
     "output_type": "stream",
     "text": [
      "Lay_Matrix_Algebra_97.pdf\n",
      "Lay_Vector_Spaces_201-255.pdf\n",
      "Lay_Linear_Systems_1-67.pdf\n"
     ]
    }
   ],
   "source": [
    "for path in paths:\n",
    "    print(path)"
   ]
  },
  {
   "cell_type": "code",
   "execution_count": 29,
   "metadata": {},
   "outputs": [
    {
     "name": "stdout",
     "output_type": "stream",
     "text": [
      "170\n"
     ]
    }
   ],
   "source": [
    "import glob\n",
    "from langchain_community.document_loaders import PyPDFLoader\n",
    "\n",
    "# Define the directory containing your PDF files\n",
    "directory_path = \"/Users/yuriivoievidka/UCU/GenAI/rag-math-tutor/data/pdfs/\"\n",
    "\n",
    "# Get all PDF file paths in the directory\n",
    "pdf_files = glob.glob(f\"{directory_path}/*.pdf\")\n",
    "\n",
    "# Load all PDF files into documents\n",
    "docs = []\n",
    "for pdf_file in pdf_files:\n",
    "    loader = PyPDFLoader(pdf_file)\n",
    "    docs.extend(loader.load())\n",
    "\n",
    "# Print the total number of documents\n",
    "print(len(docs))\n"
   ]
  },
  {
   "cell_type": "code",
   "execution_count": 30,
   "metadata": {},
   "outputs": [
    {
     "data": {
      "text/plain": [
       "Document(metadata={'source': '/Users/yuriivoievidka/UCU/GenAI/rag-math-tutor/data/pdfs/Lay_Matrix_Algebra_97.pdf', 'page': 3}, page_content='THEOREM I \\n2.1 Matrix Operations 99 \\nColumn \\nj \\na1 1 a1j a1 n \\nRowi an aij a;,, =A \\na m l amj a mn \\ni i i \\n31 a j a\" \\nFIGURE 1 Matrix nota tion. \\nSums and Scalar Multiples \\nThe arithmetic for vectors described earlier has a natural extension to matrices. We say \\nthat two matrices are eq u a l if they have the same size (i.e., the same number of rows \\nand the sa me number of columns) and if their corresponding co l umn s are equal, which \\namounts to saying that their corresponding entries are equal. If A and B are m x n \\nmatrices, then the s um A + B is the m x n matrix whose columns are th e s ums of \\nthe corresponding co lumn s in A and B. Since vecto r a ddition of the co l umns i s d o ne \\ne n trywise , each entry in A + B is the s um of the corresponding entries in A and B. The \\nsum A + B is defined only when A and B are the same size. \\nEXAMPLE 1 Let \\nA= [ 4 0 \\n;], B=U \\n1 \\n~l C=[~ -n - 1 3 5 \\nThen \\nA+B=[; \\n1 \\n~] 8 \\nbut A + C i s not defined because A and C h ave different s iz es. • \\nIf r is a sca lar and A is a matrix , then the sca lar m u lti pl e r A is the matrix w ho se \\nco lumns are r times the corresponding co lumns in A. As with vectors, - A stands for \\n( - l)A , and A - Bi s the same as A+ ( - l ) B . \\nEXAMPLE 2 If A and Bar e the matrice s in Example 1, then \\n2B=2U s q=[~ 1 ~ 1 ~ ] \\nA - 2B = [ _ ~ ~ ; ] - [ ~ l ~ l ~ ] [ 2 -2 3] \\n- - 7 - 7 - 12 • \\nIt was unnecessary in Example 2 to compute A - 2B as A + ( - 1 )2B because the \\nusual rul es of a l ge bra apply to s um s and sca l ar multiples of m atr ices , as the following \\ntheorem s how s. \\nLet A, B, and C be matrices of the same s ize , and let r and s be scalars. \\na. A+ B = B +A d. r(A + B) = rA + rB \\nb. (A + B) + C = A + (B + C) e. (r+s)A=rA+sA \\nc. A +0 =A f. r(sA) = (rs)A ')"
      ]
     },
     "execution_count": 30,
     "metadata": {},
     "output_type": "execute_result"
    }
   ],
   "source": [
    "docs[3]"
   ]
  },
  {
   "cell_type": "code",
   "execution_count": 45,
   "metadata": {},
   "outputs": [],
   "source": [
    "CHATBOT_URL = os.getenv(\"CHATBOT_URL\", \"https://localhost:8000/math-rag-agent\")"
   ]
  },
  {
   "cell_type": "code",
   "execution_count": 46,
   "metadata": {},
   "outputs": [],
   "source": [
    "import requests\n",
    "\n",
    "data = {\"question\": \"generate a task for me to prepare for exam about orthogonality\"}\n",
    "\n",
    "response = requests.post(CHATBOT_URL, json=data)"
   ]
  },
  {
   "cell_type": "code",
   "execution_count": 47,
   "metadata": {},
   "outputs": [
    {
     "data": {
      "text/plain": [
       "'{\"input\":\"generate a task for me to prepare for exam about orthogonality\",\"output\":\"Sure, here\\'s a task for you:\\\\n\\\\nTask: Given two vectors A and B in a vector space V, prove that they are orthogonal to each other. Then, provide an example of two orthogonal vectors in the vector space R^n. Explain why they are orthogonal based on your proof.\",\"intermediate_steps\":[\"step1\",\"step2\"]}'"
      ]
     },
     "execution_count": 47,
     "metadata": {},
     "output_type": "execute_result"
    }
   ],
   "source": [
    "response.text"
   ]
  },
  {
   "cell_type": "code",
   "execution_count": null,
   "metadata": {},
   "outputs": [],
   "source": [
    " curl -X POST \"http://chatbot_api:8000/math-rag-agent\" \\\n",
    "-H \"Content-Type: application/json\" \\\n",
    "-d '{\"question\": \"What is 2 + 2?\"}'"
   ]
  },
  {
   "cell_type": "code",
   "execution_count": 3,
   "metadata": {},
   "outputs": [],
   "source": [
    "import getpass\n",
    "import os\n",
    "\n",
    "if not os.environ.get(\"OPENAI_API_KEY\"):\n",
    "  os.environ[\"OPENAI_API_KEY\"] = os.getenv(\"OPENAI_API_KEY\")\n",
    "\n",
    "from langchain_openai import ChatOpenAI\n",
    "\n",
    "llm = ChatOpenAI(model=\"gpt-4o-mini\")"
   ]
  },
  {
   "cell_type": "code",
   "execution_count": 6,
   "metadata": {},
   "outputs": [],
   "source": [
    "from langchain_openai import OpenAIEmbeddings\n",
    "\n",
    "embeddings = OpenAIEmbeddings(model=\"text-embedding-3-large\")"
   ]
  },
  {
   "cell_type": "code",
   "execution_count": 7,
   "metadata": {},
   "outputs": [],
   "source": [
    "from langchain_chroma import Chroma\n",
    "\n",
    "vector_store = Chroma(embedding_function=embeddings)"
   ]
  },
  {
   "cell_type": "code",
   "execution_count": 5,
   "metadata": {},
   "outputs": [
    {
     "ename": "AttributeError",
     "evalue": "'OpenAIEmbeddings' object has no attribute 'dim'",
     "output_type": "error",
     "traceback": [
      "\u001b[0;31m---------------------------------------------------------------------------\u001b[0m",
      "\u001b[0;31mAttributeError\u001b[0m                            Traceback (most recent call last)",
      "Cell \u001b[0;32mIn[5], line 5\u001b[0m\n\u001b[1;32m      2\u001b[0m \u001b[38;5;28;01mfrom\u001b[39;00m \u001b[38;5;21;01mlangchain_community\u001b[39;00m\u001b[38;5;21;01m.\u001b[39;00m\u001b[38;5;21;01mdocstore\u001b[39;00m\u001b[38;5;21;01m.\u001b[39;00m\u001b[38;5;21;01min_memory\u001b[39;00m \u001b[38;5;28;01mimport\u001b[39;00m InMemoryDocstore\n\u001b[1;32m      3\u001b[0m \u001b[38;5;28;01mimport\u001b[39;00m \u001b[38;5;21;01mfaiss\u001b[39;00m\n\u001b[0;32m----> 5\u001b[0m faiss_index \u001b[38;5;241m=\u001b[39m faiss\u001b[38;5;241m.\u001b[39mIndexFlatL2(\u001b[43membeddings\u001b[49m\u001b[38;5;241;43m.\u001b[39;49m\u001b[43mdim\u001b[49m)\n\u001b[1;32m      7\u001b[0m \u001b[38;5;66;03m# Initialize the docstore\u001b[39;00m\n\u001b[1;32m      8\u001b[0m docstore \u001b[38;5;241m=\u001b[39m InMemoryDocstore()\n",
      "File \u001b[0;32m~/.pyenv/versions/3.12.7/envs/torch/lib/python3.12/site-packages/pydantic/main.py:856\u001b[0m, in \u001b[0;36mBaseModel.__getattr__\u001b[0;34m(self, item)\u001b[0m\n\u001b[1;32m    853\u001b[0m     \u001b[38;5;28;01mreturn\u001b[39;00m \u001b[38;5;28msuper\u001b[39m()\u001b[38;5;241m.\u001b[39m\u001b[38;5;21m__getattribute__\u001b[39m(item)  \u001b[38;5;66;03m# Raises AttributeError if appropriate\u001b[39;00m\n\u001b[1;32m    854\u001b[0m \u001b[38;5;28;01melse\u001b[39;00m:\n\u001b[1;32m    855\u001b[0m     \u001b[38;5;66;03m# this is the current error\u001b[39;00m\n\u001b[0;32m--> 856\u001b[0m     \u001b[38;5;28;01mraise\u001b[39;00m \u001b[38;5;167;01mAttributeError\u001b[39;00m(\u001b[38;5;124mf\u001b[39m\u001b[38;5;124m'\u001b[39m\u001b[38;5;132;01m{\u001b[39;00m\u001b[38;5;28mtype\u001b[39m(\u001b[38;5;28mself\u001b[39m)\u001b[38;5;241m.\u001b[39m\u001b[38;5;18m__name__\u001b[39m\u001b[38;5;132;01m!r}\u001b[39;00m\u001b[38;5;124m object has no attribute \u001b[39m\u001b[38;5;132;01m{\u001b[39;00mitem\u001b[38;5;132;01m!r}\u001b[39;00m\u001b[38;5;124m'\u001b[39m)\n",
      "\u001b[0;31mAttributeError\u001b[0m: 'OpenAIEmbeddings' object has no attribute 'dim'"
     ]
    }
   ],
   "source": [
    "from langchain_community.vectorstores.faiss import FAISS\n",
    "from langchain_community.docstore.in_memory import InMemoryDocstore\n",
    "import faiss\n",
    "\n",
    "faiss_index = faiss.IndexFlatL2(embeddings.dim)\n",
    "\n",
    "# Initialize the docstore\n",
    "docstore = InMemoryDocstore()\n",
    "\n",
    "# Initialize the index_to_docstore_id\n",
    "index_to_docstore_id = {}\n",
    "\n",
    "faiss = FAISS(embedding_function=embeddings.embed, index=faiss_index, docstore=docstore, index_to_docstore_id=index_to_docstore_id)\n"
   ]
  },
  {
   "cell_type": "code",
   "execution_count": 12,
   "metadata": {},
   "outputs": [
    {
     "ename": "ValueError",
     "evalue": "numpy.dtype size changed, may indicate binary incompatibility. Expected 96 from C header, got 88 from PyObject",
     "output_type": "error",
     "traceback": [
      "\u001b[0;31m---------------------------------------------------------------------------\u001b[0m",
      "\u001b[0;31mValueError\u001b[0m                                Traceback (most recent call last)",
      "Cell \u001b[0;32mIn[12], line 1\u001b[0m\n\u001b[0;32m----> 1\u001b[0m \u001b[38;5;28;01mimport\u001b[39;00m \u001b[38;5;21;01mpandas\u001b[39;00m \u001b[38;5;28;01mas\u001b[39;00m \u001b[38;5;21;01mpd\u001b[39;00m\n\u001b[1;32m      3\u001b[0m math_eval_df_columns \u001b[38;5;241m=\u001b[39m [\u001b[38;5;124m\"\u001b[39m\u001b[38;5;124minput\u001b[39m\u001b[38;5;124m\"\u001b[39m, \u001b[38;5;124m\"\u001b[39m\u001b[38;5;124moutput\u001b[39m\u001b[38;5;124m\"\u001b[39m, \u001b[38;5;124m\"\u001b[39m\u001b[38;5;124mtype\u001b[39m\u001b[38;5;124m\"\u001b[39m, \u001b[38;5;124m\"\u001b[39m\u001b[38;5;124manswer\u001b[39m\u001b[38;5;124m\"\u001b[39m]\n\u001b[1;32m      5\u001b[0m tutor_eval_dataset \u001b[38;5;241m=\u001b[39m pd\u001b[38;5;241m.\u001b[39mDataFrame(data\u001b[38;5;241m=\u001b[39m{}, columns\u001b[38;5;241m=\u001b[39mmath_eval_df_columns)\n",
      "File \u001b[0;32m~/.pyenv/versions/3.12.7/envs/torch/lib/python3.12/site-packages/pandas/__init__.py:34\u001b[0m\n\u001b[1;32m     27\u001b[0m     _module \u001b[38;5;241m=\u001b[39m _err\u001b[38;5;241m.\u001b[39mname\n\u001b[1;32m     28\u001b[0m     \u001b[38;5;28;01mraise\u001b[39;00m \u001b[38;5;167;01mImportError\u001b[39;00m(\n\u001b[1;32m     29\u001b[0m         \u001b[38;5;124mf\u001b[39m\u001b[38;5;124m\"\u001b[39m\u001b[38;5;124mC extension: \u001b[39m\u001b[38;5;132;01m{\u001b[39;00m_module\u001b[38;5;132;01m}\u001b[39;00m\u001b[38;5;124m not built. If you want to import \u001b[39m\u001b[38;5;124m\"\u001b[39m\n\u001b[1;32m     30\u001b[0m         \u001b[38;5;124m\"\u001b[39m\u001b[38;5;124mpandas from the source directory, you may need to run \u001b[39m\u001b[38;5;124m\"\u001b[39m\n\u001b[1;32m     31\u001b[0m         \u001b[38;5;124m\"\u001b[39m\u001b[38;5;124m'\u001b[39m\u001b[38;5;124mpython setup.py build_ext\u001b[39m\u001b[38;5;124m'\u001b[39m\u001b[38;5;124m to build the C extensions first.\u001b[39m\u001b[38;5;124m\"\u001b[39m\n\u001b[1;32m     32\u001b[0m     ) \u001b[38;5;28;01mfrom\u001b[39;00m \u001b[38;5;21;01m_err\u001b[39;00m\n\u001b[0;32m---> 34\u001b[0m \u001b[38;5;28;01mfrom\u001b[39;00m \u001b[38;5;21;01mpandas\u001b[39;00m\u001b[38;5;21;01m.\u001b[39;00m\u001b[38;5;21;01m_config\u001b[39;00m \u001b[38;5;28;01mimport\u001b[39;00m (\n\u001b[1;32m     35\u001b[0m     get_option,\n\u001b[1;32m     36\u001b[0m     set_option,\n\u001b[1;32m     37\u001b[0m     reset_option,\n\u001b[1;32m     38\u001b[0m     describe_option,\n\u001b[1;32m     39\u001b[0m     option_context,\n\u001b[1;32m     40\u001b[0m     options,\n\u001b[1;32m     41\u001b[0m )\n\u001b[1;32m     43\u001b[0m \u001b[38;5;66;03m# let init-time option registration happen\u001b[39;00m\n\u001b[1;32m     44\u001b[0m \u001b[38;5;28;01mimport\u001b[39;00m \u001b[38;5;21;01mpandas\u001b[39;00m\u001b[38;5;21;01m.\u001b[39;00m\u001b[38;5;21;01mcore\u001b[39;00m\u001b[38;5;21;01m.\u001b[39;00m\u001b[38;5;21;01mconfig_init\u001b[39;00m  \u001b[38;5;66;03m# pyright: ignore[reportUnusedImport] # noqa: F401\u001b[39;00m\n",
      "File \u001b[0;32m~/.pyenv/versions/3.12.7/envs/torch/lib/python3.12/site-packages/pandas/_config/__init__.py:19\u001b[0m\n\u001b[1;32m      1\u001b[0m \u001b[38;5;124;03m\"\"\"\u001b[39;00m\n\u001b[1;32m      2\u001b[0m \u001b[38;5;124;03mpandas._config is considered explicitly upstream of everything else in pandas,\u001b[39;00m\n\u001b[1;32m      3\u001b[0m \u001b[38;5;124;03mshould have no intra-pandas dependencies.\u001b[39;00m\n\u001b[0;32m   (...)\u001b[0m\n\u001b[1;32m      6\u001b[0m \u001b[38;5;124;03mare initialized.\u001b[39;00m\n\u001b[1;32m      7\u001b[0m \u001b[38;5;124;03m\"\"\"\u001b[39;00m\n\u001b[1;32m      8\u001b[0m __all__ \u001b[38;5;241m=\u001b[39m [\n\u001b[1;32m      9\u001b[0m     \u001b[38;5;124m\"\u001b[39m\u001b[38;5;124mconfig\u001b[39m\u001b[38;5;124m\"\u001b[39m,\n\u001b[1;32m     10\u001b[0m     \u001b[38;5;124m\"\u001b[39m\u001b[38;5;124mdetect_console_encoding\u001b[39m\u001b[38;5;124m\"\u001b[39m,\n\u001b[0;32m   (...)\u001b[0m\n\u001b[1;32m     17\u001b[0m     \u001b[38;5;124m\"\u001b[39m\u001b[38;5;124musing_copy_on_write\u001b[39m\u001b[38;5;124m\"\u001b[39m,\n\u001b[1;32m     18\u001b[0m ]\n\u001b[0;32m---> 19\u001b[0m \u001b[38;5;28;01mfrom\u001b[39;00m \u001b[38;5;21;01mpandas\u001b[39;00m\u001b[38;5;21;01m.\u001b[39;00m\u001b[38;5;21;01m_config\u001b[39;00m \u001b[38;5;28;01mimport\u001b[39;00m config\n\u001b[1;32m     20\u001b[0m \u001b[38;5;28;01mfrom\u001b[39;00m \u001b[38;5;21;01mpandas\u001b[39;00m\u001b[38;5;21;01m.\u001b[39;00m\u001b[38;5;21;01m_config\u001b[39;00m \u001b[38;5;28;01mimport\u001b[39;00m dates  \u001b[38;5;66;03m# pyright: ignore[reportUnusedImport]  # noqa: F401\u001b[39;00m\n\u001b[1;32m     21\u001b[0m \u001b[38;5;28;01mfrom\u001b[39;00m \u001b[38;5;21;01mpandas\u001b[39;00m\u001b[38;5;21;01m.\u001b[39;00m\u001b[38;5;21;01m_config\u001b[39;00m\u001b[38;5;21;01m.\u001b[39;00m\u001b[38;5;21;01mconfig\u001b[39;00m \u001b[38;5;28;01mimport\u001b[39;00m (\n\u001b[1;32m     22\u001b[0m     _global_config,\n\u001b[1;32m     23\u001b[0m     describe_option,\n\u001b[0;32m   (...)\u001b[0m\n\u001b[1;32m     28\u001b[0m     set_option,\n\u001b[1;32m     29\u001b[0m )\n",
      "File \u001b[0;32m~/.pyenv/versions/3.12.7/envs/torch/lib/python3.12/site-packages/pandas/_config/config.py:68\u001b[0m\n\u001b[1;32m     58\u001b[0m \u001b[38;5;28;01mfrom\u001b[39;00m \u001b[38;5;21;01mtyping\u001b[39;00m \u001b[38;5;28;01mimport\u001b[39;00m (\n\u001b[1;32m     59\u001b[0m     TYPE_CHECKING,\n\u001b[1;32m     60\u001b[0m     Any,\n\u001b[0;32m   (...)\u001b[0m\n\u001b[1;32m     64\u001b[0m     cast,\n\u001b[1;32m     65\u001b[0m )\n\u001b[1;32m     66\u001b[0m \u001b[38;5;28;01mimport\u001b[39;00m \u001b[38;5;21;01mwarnings\u001b[39;00m\n\u001b[0;32m---> 68\u001b[0m \u001b[38;5;28;01mfrom\u001b[39;00m \u001b[38;5;21;01mpandas\u001b[39;00m\u001b[38;5;21;01m.\u001b[39;00m\u001b[38;5;21;01m_typing\u001b[39;00m \u001b[38;5;28;01mimport\u001b[39;00m (\n\u001b[1;32m     69\u001b[0m     F,\n\u001b[1;32m     70\u001b[0m     T,\n\u001b[1;32m     71\u001b[0m )\n\u001b[1;32m     72\u001b[0m \u001b[38;5;28;01mfrom\u001b[39;00m \u001b[38;5;21;01mpandas\u001b[39;00m\u001b[38;5;21;01m.\u001b[39;00m\u001b[38;5;21;01mutil\u001b[39;00m\u001b[38;5;21;01m.\u001b[39;00m\u001b[38;5;21;01m_exceptions\u001b[39;00m \u001b[38;5;28;01mimport\u001b[39;00m find_stack_level\n\u001b[1;32m     74\u001b[0m \u001b[38;5;28;01mif\u001b[39;00m TYPE_CHECKING:\n",
      "File \u001b[0;32m~/.pyenv/versions/3.12.7/envs/torch/lib/python3.12/site-packages/pandas/_typing.py:163\u001b[0m\n\u001b[1;32m    157\u001b[0m Frequency \u001b[38;5;241m=\u001b[39m Union[\u001b[38;5;28mstr\u001b[39m, \u001b[38;5;124m\"\u001b[39m\u001b[38;5;124mBaseOffset\u001b[39m\u001b[38;5;124m\"\u001b[39m]\n\u001b[1;32m    158\u001b[0m Axes \u001b[38;5;241m=\u001b[39m ListLike\n\u001b[1;32m    160\u001b[0m RandomState \u001b[38;5;241m=\u001b[39m Union[\n\u001b[1;32m    161\u001b[0m     \u001b[38;5;28mint\u001b[39m,\n\u001b[1;32m    162\u001b[0m     np\u001b[38;5;241m.\u001b[39mndarray,\n\u001b[0;32m--> 163\u001b[0m     \u001b[43mnp\u001b[49m\u001b[38;5;241;43m.\u001b[39;49m\u001b[43mrandom\u001b[49m\u001b[38;5;241m.\u001b[39mGenerator,\n\u001b[1;32m    164\u001b[0m     np\u001b[38;5;241m.\u001b[39mrandom\u001b[38;5;241m.\u001b[39mBitGenerator,\n\u001b[1;32m    165\u001b[0m     np\u001b[38;5;241m.\u001b[39mrandom\u001b[38;5;241m.\u001b[39mRandomState,\n\u001b[1;32m    166\u001b[0m ]\n\u001b[1;32m    168\u001b[0m \u001b[38;5;66;03m# dtypes\u001b[39;00m\n\u001b[1;32m    169\u001b[0m NpDtype \u001b[38;5;241m=\u001b[39m Union[\u001b[38;5;28mstr\u001b[39m, np\u001b[38;5;241m.\u001b[39mdtype, type_t[Union[\u001b[38;5;28mstr\u001b[39m, \u001b[38;5;28mcomplex\u001b[39m, \u001b[38;5;28mbool\u001b[39m, \u001b[38;5;28mobject\u001b[39m]]]\n",
      "File \u001b[0;32m~/.pyenv/versions/3.12.7/envs/torch/lib/python3.12/site-packages/numpy/__init__.py:340\u001b[0m, in \u001b[0;36m__getattr__\u001b[0;34m(attr)\u001b[0m\n\u001b[1;32m    336\u001b[0m \u001b[38;5;28;01mdef\u001b[39;00m \u001b[38;5;21m__dir__\u001b[39m():\n\u001b[1;32m    337\u001b[0m     public_symbols \u001b[38;5;241m=\u001b[39m \u001b[38;5;28mglobals\u001b[39m()\u001b[38;5;241m.\u001b[39mkeys() \u001b[38;5;241m|\u001b[39m {\u001b[38;5;124m'\u001b[39m\u001b[38;5;124mtesting\u001b[39m\u001b[38;5;124m'\u001b[39m}\n\u001b[1;32m    338\u001b[0m     public_symbols \u001b[38;5;241m-\u001b[39m\u001b[38;5;241m=\u001b[39m {\n\u001b[1;32m    339\u001b[0m         \u001b[38;5;124m\"\u001b[39m\u001b[38;5;124mcore\u001b[39m\u001b[38;5;124m\"\u001b[39m, \u001b[38;5;124m\"\u001b[39m\u001b[38;5;124mmatrixlib\u001b[39m\u001b[38;5;124m\"\u001b[39m,\n\u001b[0;32m--> 340\u001b[0m         \u001b[38;5;66;03m# These were moved in 1.25 and may be deprecated eventually:\u001b[39;00m\n\u001b[1;32m    341\u001b[0m         \u001b[38;5;124m\"\u001b[39m\u001b[38;5;124mModuleDeprecationWarning\u001b[39m\u001b[38;5;124m\"\u001b[39m, \u001b[38;5;124m\"\u001b[39m\u001b[38;5;124mVisibleDeprecationWarning\u001b[39m\u001b[38;5;124m\"\u001b[39m,\n\u001b[1;32m    342\u001b[0m         \u001b[38;5;124m\"\u001b[39m\u001b[38;5;124mComplexWarning\u001b[39m\u001b[38;5;124m\"\u001b[39m, \u001b[38;5;124m\"\u001b[39m\u001b[38;5;124mTooHardError\u001b[39m\u001b[38;5;124m\"\u001b[39m, \u001b[38;5;124m\"\u001b[39m\u001b[38;5;124mAxisError\u001b[39m\u001b[38;5;124m\"\u001b[39m\n\u001b[1;32m    343\u001b[0m     }\n\u001b[1;32m    344\u001b[0m     \u001b[38;5;28;01mreturn\u001b[39;00m \u001b[38;5;28mlist\u001b[39m(public_symbols)\n",
      "File \u001b[0;32m~/.pyenv/versions/3.12.7/envs/torch/lib/python3.12/site-packages/numpy/random/__init__.py:180\u001b[0m\n\u001b[1;32m    126\u001b[0m __all__ \u001b[38;5;241m=\u001b[39m [\n\u001b[1;32m    127\u001b[0m     \u001b[38;5;124m'\u001b[39m\u001b[38;5;124mbeta\u001b[39m\u001b[38;5;124m'\u001b[39m,\n\u001b[1;32m    128\u001b[0m     \u001b[38;5;124m'\u001b[39m\u001b[38;5;124mbinomial\u001b[39m\u001b[38;5;124m'\u001b[39m,\n\u001b[0;32m   (...)\u001b[0m\n\u001b[1;32m    176\u001b[0m     \u001b[38;5;124m'\u001b[39m\u001b[38;5;124mzipf\u001b[39m\u001b[38;5;124m'\u001b[39m,\n\u001b[1;32m    177\u001b[0m ]\n\u001b[1;32m    179\u001b[0m \u001b[38;5;66;03m# add these for module-freeze analysis (like PyInstaller)\u001b[39;00m\n\u001b[0;32m--> 180\u001b[0m \u001b[38;5;28;01mfrom\u001b[39;00m \u001b[38;5;21;01m.\u001b[39;00m \u001b[38;5;28;01mimport\u001b[39;00m _pickle\n\u001b[1;32m    181\u001b[0m \u001b[38;5;28;01mfrom\u001b[39;00m \u001b[38;5;21;01m.\u001b[39;00m \u001b[38;5;28;01mimport\u001b[39;00m _common\n\u001b[1;32m    182\u001b[0m \u001b[38;5;28;01mfrom\u001b[39;00m \u001b[38;5;21;01m.\u001b[39;00m \u001b[38;5;28;01mimport\u001b[39;00m _bounded_integers\n",
      "File \u001b[0;32m~/.pyenv/versions/3.12.7/envs/torch/lib/python3.12/site-packages/numpy/random/_pickle.py:1\u001b[0m\n\u001b[0;32m----> 1\u001b[0m \u001b[38;5;28;01mfrom\u001b[39;00m \u001b[38;5;21;01m.\u001b[39;00m\u001b[38;5;21;01mmtrand\u001b[39;00m \u001b[38;5;28;01mimport\u001b[39;00m RandomState\n\u001b[1;32m      2\u001b[0m \u001b[38;5;28;01mfrom\u001b[39;00m \u001b[38;5;21;01m.\u001b[39;00m\u001b[38;5;21;01m_philox\u001b[39;00m \u001b[38;5;28;01mimport\u001b[39;00m Philox\n\u001b[1;32m      3\u001b[0m \u001b[38;5;28;01mfrom\u001b[39;00m \u001b[38;5;21;01m.\u001b[39;00m\u001b[38;5;21;01m_pcg64\u001b[39;00m \u001b[38;5;28;01mimport\u001b[39;00m PCG64, PCG64DXSM\n",
      "File \u001b[0;32mnumpy/random/mtrand.pyx:1\u001b[0m, in \u001b[0;36minit numpy.random.mtrand\u001b[0;34m()\u001b[0m\n",
      "\u001b[0;31mValueError\u001b[0m: numpy.dtype size changed, may indicate binary incompatibility. Expected 96 from C header, got 88 from PyObject"
     ]
    }
   ],
   "source": [
    "\n",
    "import pandas as pd\n",
    "\n",
    "math_eval_df_columns = [\"input\", \"output\", \"type\", \"answer\"]\n",
    "\n",
    "tutor_eval_dataset = pd.DataFrame(data={}, columns=math_eval_df_columns)"
   ]
  },
  {
   "cell_type": "code",
   "execution_count": null,
   "metadata": {},
   "outputs": [],
   "source": []
  }
 ],
 "metadata": {
  "kernelspec": {
   "display_name": "torch",
   "language": "python",
   "name": "python3"
  },
  "language_info": {
   "codemirror_mode": {
    "name": "ipython",
    "version": 3
   },
   "file_extension": ".py",
   "mimetype": "text/x-python",
   "name": "python",
   "nbconvert_exporter": "python",
   "pygments_lexer": "ipython3",
   "version": "3.12.7"
  }
 },
 "nbformat": 4,
 "nbformat_minor": 2
}
