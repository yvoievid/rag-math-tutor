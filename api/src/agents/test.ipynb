{
 "cells": [
  {
   "cell_type": "code",
   "execution_count": 13,
   "metadata": {},
   "outputs": [
    {
     "ename": "ValueError",
     "evalue": "File path ['/Users/yuriivoievidka/UCU/GenAI/rag-math-tutor/data/pdfs/Lay_Matrix_Algebra_97.pdf', '/Users/yuriivoievidka/UCU/GenAI/rag-math-tutor/data/pdfs/Lay_Vector_Spaces_201-255.pdf'] is not a valid file or url",
     "output_type": "error",
     "traceback": [
      "\u001b[0;31m---------------------------------------------------------------------------\u001b[0m",
      "\u001b[0;31mValueError\u001b[0m                                Traceback (most recent call last)",
      "Cell \u001b[0;32mIn[13], line 5\u001b[0m\n\u001b[1;32m      2\u001b[0m \u001b[38;5;28;01mimport\u001b[39;00m \u001b[38;5;21;01mos\u001b[39;00m\n\u001b[1;32m      4\u001b[0m file_path \u001b[38;5;241m=\u001b[39m os\u001b[38;5;241m.\u001b[39mwalk(\u001b[38;5;124m\"\u001b[39m\u001b[38;5;124m/Users/yuriivoievidka/UCU/GenAI/rag-math-tutor/data/pdfs\u001b[39m\u001b[38;5;124m\"\u001b[39m)\n\u001b[0;32m----> 5\u001b[0m loader \u001b[38;5;241m=\u001b[39m \u001b[43mPyPDFLoader\u001b[49m\u001b[43m(\u001b[49m\u001b[43m[\u001b[49m\u001b[38;5;124;43m\"\u001b[39;49m\u001b[38;5;124;43m/Users/yuriivoievidka/UCU/GenAI/rag-math-tutor/data/pdfs/Lay_Matrix_Algebra_97.pdf\u001b[39;49m\u001b[38;5;124;43m\"\u001b[39;49m\u001b[43m,\u001b[49m\u001b[43m \u001b[49m\n\u001b[1;32m      6\u001b[0m \u001b[43m \u001b[49m\u001b[38;5;124;43m\"\u001b[39;49m\u001b[38;5;124;43m/Users/yuriivoievidka/UCU/GenAI/rag-math-tutor/data/pdfs/Lay_Vector_Spaces_201-255.pdf\u001b[39;49m\u001b[38;5;124;43m\"\u001b[39;49m\u001b[43m]\u001b[49m\u001b[43m)\u001b[49m\n\u001b[1;32m      7\u001b[0m pages \u001b[38;5;241m=\u001b[39m []\n\u001b[1;32m      8\u001b[0m \u001b[38;5;28;01masync\u001b[39;00m \u001b[38;5;28;01mfor\u001b[39;00m page \u001b[38;5;129;01min\u001b[39;00m loader\u001b[38;5;241m.\u001b[39malazy_load():\n",
      "File \u001b[0;32m~/.pyenv/versions/3.12.7/envs/torch/lib/python3.12/site-packages/langchain_community/document_loaders/pdf.py:241\u001b[0m, in \u001b[0;36mPyPDFLoader.__init__\u001b[0;34m(self, file_path, password, headers, extract_images, extraction_mode, extraction_kwargs)\u001b[0m\n\u001b[1;32m    237\u001b[0m \u001b[38;5;28;01mexcept\u001b[39;00m \u001b[38;5;167;01mImportError\u001b[39;00m:\n\u001b[1;32m    238\u001b[0m     \u001b[38;5;28;01mraise\u001b[39;00m \u001b[38;5;167;01mImportError\u001b[39;00m(\n\u001b[1;32m    239\u001b[0m         \u001b[38;5;124m\"\u001b[39m\u001b[38;5;124mpypdf package not found, please install it with `pip install pypdf`\u001b[39m\u001b[38;5;124m\"\u001b[39m\n\u001b[1;32m    240\u001b[0m     )\n\u001b[0;32m--> 241\u001b[0m \u001b[38;5;28;43msuper\u001b[39;49m\u001b[43m(\u001b[49m\u001b[43m)\u001b[49m\u001b[38;5;241;43m.\u001b[39;49m\u001b[38;5;21;43m__init__\u001b[39;49m\u001b[43m(\u001b[49m\u001b[43mfile_path\u001b[49m\u001b[43m,\u001b[49m\u001b[43m \u001b[49m\u001b[43mheaders\u001b[49m\u001b[38;5;241;43m=\u001b[39;49m\u001b[43mheaders\u001b[49m\u001b[43m)\u001b[49m\n\u001b[1;32m    242\u001b[0m \u001b[38;5;28mself\u001b[39m\u001b[38;5;241m.\u001b[39mparser \u001b[38;5;241m=\u001b[39m PyPDFParser(\n\u001b[1;32m    243\u001b[0m     password\u001b[38;5;241m=\u001b[39mpassword,\n\u001b[1;32m    244\u001b[0m     extract_images\u001b[38;5;241m=\u001b[39mextract_images,\n\u001b[1;32m    245\u001b[0m     extraction_mode\u001b[38;5;241m=\u001b[39mextraction_mode,\n\u001b[1;32m    246\u001b[0m     extraction_kwargs\u001b[38;5;241m=\u001b[39mextraction_kwargs,\n\u001b[1;32m    247\u001b[0m )\n",
      "File \u001b[0;32m~/.pyenv/versions/3.12.7/envs/torch/lib/python3.12/site-packages/langchain_community/document_loaders/pdf.py:117\u001b[0m, in \u001b[0;36mBasePDFLoader.__init__\u001b[0;34m(self, file_path, headers)\u001b[0m\n\u001b[1;32m    115\u001b[0m         \u001b[38;5;28mself\u001b[39m\u001b[38;5;241m.\u001b[39mfile_path \u001b[38;5;241m=\u001b[39m \u001b[38;5;28mstr\u001b[39m(temp_pdf)\n\u001b[1;32m    116\u001b[0m \u001b[38;5;28;01melif\u001b[39;00m \u001b[38;5;129;01mnot\u001b[39;00m os\u001b[38;5;241m.\u001b[39mpath\u001b[38;5;241m.\u001b[39misfile(\u001b[38;5;28mself\u001b[39m\u001b[38;5;241m.\u001b[39mfile_path):\n\u001b[0;32m--> 117\u001b[0m     \u001b[38;5;28;01mraise\u001b[39;00m \u001b[38;5;167;01mValueError\u001b[39;00m(\u001b[38;5;124m\"\u001b[39m\u001b[38;5;124mFile path \u001b[39m\u001b[38;5;132;01m%s\u001b[39;00m\u001b[38;5;124m is not a valid file or url\u001b[39m\u001b[38;5;124m\"\u001b[39m \u001b[38;5;241m%\u001b[39m \u001b[38;5;28mself\u001b[39m\u001b[38;5;241m.\u001b[39mfile_path)\n",
      "\u001b[0;31mValueError\u001b[0m: File path ['/Users/yuriivoievidka/UCU/GenAI/rag-math-tutor/data/pdfs/Lay_Matrix_Algebra_97.pdf', '/Users/yuriivoievidka/UCU/GenAI/rag-math-tutor/data/pdfs/Lay_Vector_Spaces_201-255.pdf'] is not a valid file or url"
     ]
    }
   ],
   "source": [
    "from langchain_community.document_loaders import PyPDFLoader\n",
    "import os\n",
    "\n",
    "file_path = os.walk(\"/Users/yuriivoievidka/UCU/GenAI/rag-math-tutor/data/pdfs\")\n",
    "loader = PyPDFLoader([\"/Users/yuriivoievidka/UCU/GenAI/rag-math-tutor/data/pdfs/Lay_Matrix_Algebra_97.pdf\", \n",
    " \"/Users/yuriivoievidka/UCU/GenAI/rag-math-tutor/data/pdfs/Lay_Vector_Spaces_201-255.pdf\"])\n",
    "pages = []\n",
    "async for page in loader.alazy_load():\n",
    "    pages.append(page)"
   ]
  },
  {
   "cell_type": "code",
   "execution_count": 5,
   "metadata": {},
   "outputs": [
    {
     "name": "stdout",
     "output_type": "stream",
     "text": [
      "{'source': '/Users/yuriivoievidka/UCU/GenAI/rag-math-tutor/data/pdfs/Lay_Linear_Systems_1-67.pdf', 'page': 1}\n",
      "\n",
      "1.1 Systems of Linear Equations 3 \n",
      "A system of linear equations (or a linear system) is a collection of one or more \n",
      "linear equations involving the same variables-say , x 1 , .. • , x,,. An example is \n",
      "2x1 - X2 + l . 5X 3 = 8 \n",
      "X1 4X 3 = -7 \n",
      "(2) \n",
      "A solution of the system is a list (s 1 , s 2 , ... , sn) of numbers that makes each e quation a \n",
      "true statement when the values s 1 , • . • , Sn are s ub st ituted for x 1 , • • . , Xn, re spec ti ve ly . For \n",
      "instance , (5, 6.5, 3) is a solution of system (2) because , when these values are substituted \n",
      "in (2) for x 1 , x 2 , x 3 , respectively, the equations simplify to 8 = 8 and - 7 = - 7. \n",
      "The set of all pos s ible solutions is called the solution set of the linear syste m . Two \n",
      "linear systems are called equivalent if they ha ve the same solution set. That is , each \n",
      "solution of the first system is a solution of the second syste m, and each solution of the \n",
      "se cond sys tem is a so lution of the fir st. \n",
      "Finding the solution set of a system of two linear equations in two variables is easy \n",
      "because it amounts to finding the intersection of two lines. A typical problem is \n",
      "X 1 - 2X2 = -1 \n",
      "-X1 + 3X2 = 3 \n",
      "The graphs of the se equations are line s, which we denote b y e 1 and f 2 . A pair of number s \n",
      "(x 1 , x 2 ) satisfies both equations in the system if and only if the point (x 1 , x 2 ) lies on both \n",
      "f 1 and f 2 . In the system above, the solution is the single point (3, 2), as you can easily \n",
      "verify. See Figure 1. \n",
      "C 1 \n",
      "FIGURE 1 Exactl y on e s olut ion. \n",
      "Of course, two line s need not inter sec t in a s in g le point-they could be parallel , or \n",
      "they could coincide and hence \" intersect \" at every point on the line. Figure 2 shows the \n",
      "graphs that correspond to the following systems: \n",
      "(a) x1 - 2x2 = - 1 \n",
      "- X 1 + 2x2 = 3 \n",
      "(b) X 1 - 2X2= - l \n",
      "- X 1 + 2X2 = 1 \n",
      "Figures 1 a nd 2 illustrate the following general fact about linear systems , to be \n",
      "verified in Section 1.2. \n",
      "( a) ( b ) \n",
      "FIGURE 2 (a ) No s olution . ( b ) Infinite ly man y so lution s. \n"
     ]
    }
   ],
   "source": [
    "print(f\"{pages[1].metadata}\\n\")\n",
    "print(pages[3].page_content)"
   ]
  },
  {
   "cell_type": "code",
   "execution_count": 31,
   "metadata": {},
   "outputs": [
    {
     "data": {
      "text/plain": [
       "['Lay_Matrix_Algebra_97.pdf',\n",
       " 'Lay_Vector_Spaces_201-255.pdf',\n",
       " 'Lay_Linear_Systems_1-67.pdf']"
      ]
     },
     "execution_count": 31,
     "metadata": {},
     "output_type": "execute_result"
    }
   ],
   "source": [
    "import os\n",
    "\n",
    "paths = os.listdir(\"/Users/yuriivoievidka/UCU/GenAI/rag-math-tutor/data/pdfs/\")\n",
    "BASE_PATH = \"/Users/yuriivoievidka/UCU/GenAI/rag-math-tutor/data/pdfs\"\n",
    "os.listdir(BASE_PATH)"
   ]
  },
  {
   "cell_type": "code",
   "execution_count": 26,
   "metadata": {},
   "outputs": [
    {
     "data": {
      "text/plain": [
       "['/Users/yuriivoievidka/UCU/GenAI/rag-math-tutor/data/pdfs/Lay_Matrix_Algebra_97.pdf',\n",
       " '/Users/yuriivoievidka/UCU/GenAI/rag-math-tutor/data/pdfs/Lay_Vector_Spaces_201-255.pdf']"
      ]
     },
     "execution_count": 26,
     "metadata": {},
     "output_type": "execute_result"
    }
   ],
   "source": [
    "[\"/Users/yuriivoievidka/UCU/GenAI/rag-math-tutor/data/pdfs/Lay_Matrix_Algebra_97.pdf\", \n",
    " \"/Users/yuriivoievidka/UCU/GenAI/rag-math-tutor/data/pdfs/Lay_Vector_Spaces_201-255.pdf\"]"
   ]
  },
  {
   "cell_type": "code",
   "execution_count": 27,
   "metadata": {},
   "outputs": [
    {
     "name": "stdout",
     "output_type": "stream",
     "text": [
      "Lay_Matrix_Algebra_97.pdf\n",
      "Lay_Vector_Spaces_201-255.pdf\n",
      "Lay_Linear_Systems_1-67.pdf\n"
     ]
    }
   ],
   "source": [
    "for path in paths:\n",
    "    print(path)"
   ]
  },
  {
   "cell_type": "code",
   "execution_count": 29,
   "metadata": {},
   "outputs": [
    {
     "name": "stdout",
     "output_type": "stream",
     "text": [
      "170\n"
     ]
    }
   ],
   "source": [
    "import glob\n",
    "from langchain_community.document_loaders import PyPDFLoader\n",
    "\n",
    "# Define the directory containing your PDF files\n",
    "directory_path = \"/Users/yuriivoievidka/UCU/GenAI/rag-math-tutor/data/pdfs/\"\n",
    "\n",
    "# Get all PDF file paths in the directory\n",
    "pdf_files = glob.glob(f\"{directory_path}/*.pdf\")\n",
    "\n",
    "# Load all PDF files into documents\n",
    "docs = []\n",
    "for pdf_file in pdf_files:\n",
    "    loader = PyPDFLoader(pdf_file)\n",
    "    docs.extend(loader.load())\n",
    "\n",
    "# Print the total number of documents\n",
    "print(len(docs))\n"
   ]
  },
  {
   "cell_type": "code",
   "execution_count": 30,
   "metadata": {},
   "outputs": [
    {
     "data": {
      "text/plain": [
       "Document(metadata={'source': '/Users/yuriivoievidka/UCU/GenAI/rag-math-tutor/data/pdfs/Lay_Matrix_Algebra_97.pdf', 'page': 3}, page_content='THEOREM I \\n2.1 Matrix Operations 99 \\nColumn \\nj \\na1 1 a1j a1 n \\nRowi an aij a;,, =A \\na m l amj a mn \\ni i i \\n31 a j a\" \\nFIGURE 1 Matrix nota tion. \\nSums and Scalar Multiples \\nThe arithmetic for vectors described earlier has a natural extension to matrices. We say \\nthat two matrices are eq u a l if they have the same size (i.e., the same number of rows \\nand the sa me number of columns) and if their corresponding co l umn s are equal, which \\namounts to saying that their corresponding entries are equal. If A and B are m x n \\nmatrices, then the s um A + B is the m x n matrix whose columns are th e s ums of \\nthe corresponding co lumn s in A and B. Since vecto r a ddition of the co l umns i s d o ne \\ne n trywise , each entry in A + B is the s um of the corresponding entries in A and B. The \\nsum A + B is defined only when A and B are the same size. \\nEXAMPLE 1 Let \\nA= [ 4 0 \\n;], B=U \\n1 \\n~l C=[~ -n - 1 3 5 \\nThen \\nA+B=[; \\n1 \\n~] 8 \\nbut A + C i s not defined because A and C h ave different s iz es. • \\nIf r is a sca lar and A is a matrix , then the sca lar m u lti pl e r A is the matrix w ho se \\nco lumns are r times the corresponding co lumns in A. As with vectors, - A stands for \\n( - l)A , and A - Bi s the same as A+ ( - l ) B . \\nEXAMPLE 2 If A and Bar e the matrice s in Example 1, then \\n2B=2U s q=[~ 1 ~ 1 ~ ] \\nA - 2B = [ _ ~ ~ ; ] - [ ~ l ~ l ~ ] [ 2 -2 3] \\n- - 7 - 7 - 12 • \\nIt was unnecessary in Example 2 to compute A - 2B as A + ( - 1 )2B because the \\nusual rul es of a l ge bra apply to s um s and sca l ar multiples of m atr ices , as the following \\ntheorem s how s. \\nLet A, B, and C be matrices of the same s ize , and let r and s be scalars. \\na. A+ B = B +A d. r(A + B) = rA + rB \\nb. (A + B) + C = A + (B + C) e. (r+s)A=rA+sA \\nc. A +0 =A f. r(sA) = (rs)A ')"
      ]
     },
     "execution_count": 30,
     "metadata": {},
     "output_type": "execute_result"
    }
   ],
   "source": [
    "docs[3]"
   ]
  },
  {
   "cell_type": "code",
   "execution_count": 45,
   "metadata": {},
   "outputs": [],
   "source": [
    "CHATBOT_URL = os.getenv(\"CHATBOT_URL\", \"https://localhost:8000/math-rag-agent\")"
   ]
  },
  {
   "cell_type": "code",
   "execution_count": 46,
   "metadata": {},
   "outputs": [],
   "source": [
    "import requests\n",
    "\n",
    "data = {\"question\": \"generate a task for me to prepare for exam about orthogonality\"}\n",
    "\n",
    "response = requests.post(CHATBOT_URL, json=data)"
   ]
  },
  {
   "cell_type": "code",
   "execution_count": 47,
   "metadata": {},
   "outputs": [
    {
     "data": {
      "text/plain": [
       "'{\"input\":\"generate a task for me to prepare for exam about orthogonality\",\"output\":\"Sure, here\\'s a task for you:\\\\n\\\\nTask: Given two vectors A and B in a vector space V, prove that they are orthogonal to each other. Then, provide an example of two orthogonal vectors in the vector space R^n. Explain why they are orthogonal based on your proof.\",\"intermediate_steps\":[\"step1\",\"step2\"]}'"
      ]
     },
     "execution_count": 47,
     "metadata": {},
     "output_type": "execute_result"
    }
   ],
   "source": [
    "response.text"
   ]
  },
  {
   "cell_type": "code",
   "execution_count": null,
   "metadata": {},
   "outputs": [],
   "source": [
    " curl -X POST \"http://chatbot_api:8000/math-rag-agent\" \\\n",
    "-H \"Content-Type: application/json\" \\\n",
    "-d '{\"question\": \"What is 2 + 2?\"}'"
   ]
  },
  {
   "cell_type": "code",
   "execution_count": 3,
   "metadata": {},
   "outputs": [],
   "source": [
    "import getpass\n",
    "import os\n",
    "\n",
    "if not os.environ.get(\"OPENAI_API_KEY\"):\n",
    "  os.environ[\"OPENAI_API_KEY\"] = os.getenv(\"OPENAI_API_KEY\")\n",
    "\n",
    "from langchain_openai import ChatOpenAI\n",
    "\n",
    "llm = ChatOpenAI(model=\"gpt-4o-mini\")"
   ]
  },
  {
   "cell_type": "code",
   "execution_count": 6,
   "metadata": {},
   "outputs": [],
   "source": [
    "from langchain_openai import OpenAIEmbeddings\n",
    "\n",
    "embeddings = OpenAIEmbeddings(model=\"text-embedding-3-large\")"
   ]
  },
  {
   "cell_type": "code",
   "execution_count": 7,
   "metadata": {},
   "outputs": [],
   "source": [
    "from langchain_chroma import Chroma\n",
    "\n",
    "vector_store = Chroma(embedding_function=embeddings)"
   ]
  },
  {
   "cell_type": "code",
   "execution_count": 5,
   "metadata": {},
   "outputs": [
    {
     "ename": "AttributeError",
     "evalue": "'OpenAIEmbeddings' object has no attribute 'dim'",
     "output_type": "error",
     "traceback": [
      "\u001b[0;31m---------------------------------------------------------------------------\u001b[0m",
      "\u001b[0;31mAttributeError\u001b[0m                            Traceback (most recent call last)",
      "Cell \u001b[0;32mIn[5], line 5\u001b[0m\n\u001b[1;32m      2\u001b[0m \u001b[38;5;28;01mfrom\u001b[39;00m \u001b[38;5;21;01mlangchain_community\u001b[39;00m\u001b[38;5;21;01m.\u001b[39;00m\u001b[38;5;21;01mdocstore\u001b[39;00m\u001b[38;5;21;01m.\u001b[39;00m\u001b[38;5;21;01min_memory\u001b[39;00m \u001b[38;5;28;01mimport\u001b[39;00m InMemoryDocstore\n\u001b[1;32m      3\u001b[0m \u001b[38;5;28;01mimport\u001b[39;00m \u001b[38;5;21;01mfaiss\u001b[39;00m\n\u001b[0;32m----> 5\u001b[0m faiss_index \u001b[38;5;241m=\u001b[39m faiss\u001b[38;5;241m.\u001b[39mIndexFlatL2(\u001b[43membeddings\u001b[49m\u001b[38;5;241;43m.\u001b[39;49m\u001b[43mdim\u001b[49m)\n\u001b[1;32m      7\u001b[0m \u001b[38;5;66;03m# Initialize the docstore\u001b[39;00m\n\u001b[1;32m      8\u001b[0m docstore \u001b[38;5;241m=\u001b[39m InMemoryDocstore()\n",
      "File \u001b[0;32m~/.pyenv/versions/3.12.7/envs/torch/lib/python3.12/site-packages/pydantic/main.py:856\u001b[0m, in \u001b[0;36mBaseModel.__getattr__\u001b[0;34m(self, item)\u001b[0m\n\u001b[1;32m    853\u001b[0m     \u001b[38;5;28;01mreturn\u001b[39;00m \u001b[38;5;28msuper\u001b[39m()\u001b[38;5;241m.\u001b[39m\u001b[38;5;21m__getattribute__\u001b[39m(item)  \u001b[38;5;66;03m# Raises AttributeError if appropriate\u001b[39;00m\n\u001b[1;32m    854\u001b[0m \u001b[38;5;28;01melse\u001b[39;00m:\n\u001b[1;32m    855\u001b[0m     \u001b[38;5;66;03m# this is the current error\u001b[39;00m\n\u001b[0;32m--> 856\u001b[0m     \u001b[38;5;28;01mraise\u001b[39;00m \u001b[38;5;167;01mAttributeError\u001b[39;00m(\u001b[38;5;124mf\u001b[39m\u001b[38;5;124m'\u001b[39m\u001b[38;5;132;01m{\u001b[39;00m\u001b[38;5;28mtype\u001b[39m(\u001b[38;5;28mself\u001b[39m)\u001b[38;5;241m.\u001b[39m\u001b[38;5;18m__name__\u001b[39m\u001b[38;5;132;01m!r}\u001b[39;00m\u001b[38;5;124m object has no attribute \u001b[39m\u001b[38;5;132;01m{\u001b[39;00mitem\u001b[38;5;132;01m!r}\u001b[39;00m\u001b[38;5;124m'\u001b[39m)\n",
      "\u001b[0;31mAttributeError\u001b[0m: 'OpenAIEmbeddings' object has no attribute 'dim'"
     ]
    }
   ],
   "source": [
    "from langchain_community.vectorstores.faiss import FAISS\n",
    "from langchain_community.docstore.in_memory import InMemoryDocstore\n",
    "import faiss\n",
    "\n",
    "faiss_index = faiss.IndexFlatL2(embeddings.dim)\n",
    "\n",
    "# Initialize the docstore\n",
    "docstore = InMemoryDocstore()\n",
    "\n",
    "# Initialize the index_to_docstore_id\n",
    "index_to_docstore_id = {}\n",
    "\n",
    "faiss = FAISS(embedding_function=embeddings.embed, index=faiss_index, docstore=docstore, index_to_docstore_id=index_to_docstore_id)\n"
   ]
  },
  {
   "cell_type": "code",
   "execution_count": 1,
   "metadata": {},
   "outputs": [],
   "source": [
    "\n",
    "import pandas as pd\n",
    "\n",
    "math_eval_df_columns = [\"input\", \"output\", \"type\", \"answer\"]\n",
    "\n",
    "tutor_eval_dataset = pd.DataFrame(data={}, columns=math_eval_df_columns)"
   ]
  },
  {
   "cell_type": "code",
   "execution_count": 2,
   "metadata": {},
   "outputs": [
    {
     "data": {
      "text/html": [
       "<div>\n",
       "<style scoped>\n",
       "    .dataframe tbody tr th:only-of-type {\n",
       "        vertical-align: middle;\n",
       "    }\n",
       "\n",
       "    .dataframe tbody tr th {\n",
       "        vertical-align: top;\n",
       "    }\n",
       "\n",
       "    .dataframe thead th {\n",
       "        text-align: right;\n",
       "    }\n",
       "</style>\n",
       "<table border=\"1\" class=\"dataframe\">\n",
       "  <thead>\n",
       "    <tr style=\"text-align: right;\">\n",
       "      <th></th>\n",
       "      <th>input</th>\n",
       "      <th>output</th>\n",
       "      <th>type</th>\n",
       "      <th>answer</th>\n",
       "    </tr>\n",
       "  </thead>\n",
       "  <tbody>\n",
       "  </tbody>\n",
       "</table>\n",
       "</div>"
      ],
      "text/plain": [
       "Empty DataFrame\n",
       "Columns: [input, output, type, answer]\n",
       "Index: []"
      ]
     },
     "execution_count": 2,
     "metadata": {},
     "output_type": "execute_result"
    }
   ],
   "source": [
    "tutor_eval_dataset.head()"
   ]
  },
  {
   "cell_type": "code",
   "execution_count": 4,
   "metadata": {},
   "outputs": [
    {
     "ename": "ModuleNotFoundError",
     "evalue": "No module named 'chains'",
     "output_type": "error",
     "traceback": [
      "\u001b[0;31m---------------------------------------------------------------------------\u001b[0m",
      "\u001b[0;31mModuleNotFoundError\u001b[0m                       Traceback (most recent call last)",
      "Cell \u001b[0;32mIn[4], line 1\u001b[0m\n\u001b[0;32m----> 1\u001b[0m \u001b[38;5;28;01mfrom\u001b[39;00m \u001b[38;5;21;01mchains\u001b[39;00m\u001b[38;5;21;01m.\u001b[39;00m\u001b[38;5;21;01mmath_chain\u001b[39;00m \u001b[38;5;28;01mimport\u001b[39;00m load_pdf_pages\n",
      "\u001b[0;31mModuleNotFoundError\u001b[0m: No module named 'chains'"
     ]
    }
   ],
   "source": [
    "from chains.math_chain import load_pdf_pages"
   ]
  },
  {
   "cell_type": "code",
   "execution_count": 1,
   "metadata": {},
   "outputs": [],
   "source": [
    "from pydantic import BaseModel\n",
    "from typing import Any, List\n",
    "from pydantic import BaseModel\n",
    "from langchain_core.documents import Document\n",
    "from typing_extensions import List, TypedDict\n",
    "from typing import Literal\n",
    "from typing_extensions import Annotated\n",
    "from typing import List, Dict, Optional\n",
    "\n",
    "class MathQueryInput(BaseModel):\n",
    "    text: str\n",
    "\n",
    "class Search(TypedDict):\n",
    "    query: Annotated[str, ..., \"Search query to run.\"]\n",
    "    section: Annotated[Literal[\"beginning\", \"middle\", \"end\"], ..., \"Section to query.\"]\n",
    "\n",
    "class State(TypedDict):\n",
    "    question: str\n",
    "    query: Optional[Search] = {}\n",
    "    context: Optional[List[Document]] = []\n",
    "    wolfram_answer: Optional[List[str]] = []\n",
    "    answer: Optional[str] = \"\"\n",
    "\n",
    "class QueryRequest(BaseModel):\n",
    "    question: str\n",
    "\n",
    "class MathQueryOutput(BaseModel):\n",
    "    input: str\n",
    "    output: str\n",
    "    intermediate_steps: list\n"
   ]
  },
  {
   "cell_type": "code",
   "execution_count": 2,
   "metadata": {},
   "outputs": [],
   "source": [
    "import os\n",
    "import glob\n",
    "from langchain_community.document_loaders import PyPDFLoader\n",
    "\n",
    "if \"OPENAI_API_KEY\" not in os.environ:\n",
    "    os.environ[\"OPENAI_API_KEY\"] = os.getenv(\"OPENAI_API_KEY\")\n",
    "\n",
    "os.environ[\"LANGCHAIN_TRACING_V2\"] = \"true\"\n",
    "os.environ[\"LANGCHAIN_API_KEY\"] = os.getenv(\"LANGCHAIN_API_KEY\")\n",
    "BASE_PATH = \"/Users/yuriivoievidka/UCU/GenAI/rag-math-tutor/api/pdfs\"\n",
    "\n",
    "\n",
    "def load_pdf_pages(paths: list):\n",
    "    directory_path = BASE_PATH\n",
    "\n",
    "    pdf_files = glob.glob(f\"{directory_path}/*.pdf\")\n",
    "\n",
    "    docs = []\n",
    "    for pdf_file in pdf_files:\n",
    "        loader = PyPDFLoader(pdf_file)\n",
    "        docs.extend(loader.load())\n",
    "\n",
    "    print(len(docs))\n",
    "    return docs\n",
    "\n",
    "def fill_data():\n",
    "    math_pdfs = os.listdir(BASE_PATH)   \n",
    "    math_docs = load_pdf_pages(math_pdfs)      \n",
    "\n",
    "    return math_docs\n"
   ]
  },
  {
   "cell_type": "code",
   "execution_count": 3,
   "metadata": {},
   "outputs": [],
   "source": [
    "from langchain_core.tools import tool\n",
    "from langchain_core.prompts import PromptTemplate\n",
    "from langchain_openai import OpenAIEmbeddings, ChatOpenAI\n",
    "from langchain_text_splitters import RecursiveCharacterTextSplitter\n",
    "from langchain_chroma import Chroma\n",
    "from langgraph.graph import START, END, StateGraph\n",
    "from langgraph.checkpoint.memory import MemorySaver\n",
    "import aiohttp\n",
    "\n",
    "\n",
    "def analyze_query(state: State):\n",
    "    \"\"\"_summary_\n",
    "\n",
    "    Args:\n",
    "        state (State): _description_\n",
    "\n",
    "    Returns:\n",
    "        _type_: _description_\n",
    "    \"\"\"\n",
    "    print(state)\n",
    "    structured_llm = llm.with_structured_output(Search)\n",
    "    query = structured_llm.invoke(state[\"question\"])\n",
    "    state[\"query\"] = query\n",
    "    return {\"query\": query}\n",
    "\n",
    "\n",
    "def retrieve(state: State):\n",
    "    \"\"\"_summary_\n",
    "\n",
    "    Args:\n",
    "        state (State): _description_\n",
    "\n",
    "    Returns:\n",
    "        _type_: _description_\n",
    "    \"\"\"\n",
    "    \n",
    "    print(state)\n",
    "    query = state[\"query\"]\n",
    "    query_text = query.get(\"query\")\n",
    "    section = query.get(\"section\")\n",
    "\n",
    "    if not query_text:\n",
    "        raise ValueError(\"Query text is missing in the state['query'].\")\n",
    "\n",
    "    retrieved_docs = vector_store.similarity_search(\n",
    "        query_text,\n",
    "        k=5,\n",
    "        filter={\"section\": section} if section else None\n",
    "    )\n",
    "\n",
    "    quizzes = []\n",
    "    for doc in retrieved_docs:\n",
    "        if \"quiz\" in doc.metadata or \"exercise\" in doc.metadata:\n",
    "            quizzes.append(doc.page_content)\n",
    "\n",
    "    state[\"context\"] = quizzes\n",
    "    return {\"context\": quizzes}\n",
    "\n",
    "\n",
    "def generate(state: State):\n",
    "    \"\"\"_summary_\n",
    "\n",
    "    Args:\n",
    "        state (State): _description_\n",
    "\n",
    "    Returns:\n",
    "        _type_: _description_\n",
    "    \"\"\"\n",
    "    print(\"generating\",state)\n",
    "    template = \"\"\"You are an AI math tutor that generates exercises to prepare for math exams. Generate 10 questions for exam, considering the preferences that user inputs. Use provided context to generate questions.Use Ukraininan to answer.\n",
    "    Only answer for math questions, nothing else. If you are asked anything not related to the topic, say: \"Чоловіче, це так не працює, в тебе екзамен на носі\" \n",
    "    If you will generate LaTeX code or equations, use $ format instead of \\\\( and $$ instead of \\\\[\n",
    "    Context: {context}\n",
    "    Question: {question}\n",
    "\n",
    "    Helpful Answer:\"\"\"\n",
    "    custom_prompt = PromptTemplate.from_template(template)\n",
    "    docs_content = \"\\n\\n\".join(state[\"context\"])\n",
    "    prompt = custom_prompt.invoke({\"question\": state[\"question\"], \"context\": docs_content})\n",
    "    response = llm.invoke(prompt)\n",
    "    state[\"answer\"] = response.content\n",
    "    return {\"answer\": response.content}\n",
    "\n",
    "\n",
    "\n",
    "\n",
    "async def query_wolfram(state: State):\n",
    "    \"\"\"_summary_\n",
    "\n",
    "    Args:\n",
    "        state (State): _description_\n",
    "\n",
    "    Returns:\n",
    "        _type_: _description_\n",
    "    \"\"\"\n",
    "                    \n",
    "    template = \"\"\"Work as Wolfram Alpha api to answer following question. Use Ukraininan to answer. Only answer for math questions, nothing else. If you are asked anything not related to the topic, say: \"Чоловіче, це так не працює, в тебе екзамен на носі\"\n",
    "    If you will generate LaTeX code or equations, use $ format instead of \\\\( and $$ instead of \\\\[\n",
    "    Question: {answer}\n",
    "\n",
    "    Helpful Answer:\"\"\"\n",
    "    custom_prompt = PromptTemplate.from_template(template)\n",
    "    prompt = custom_prompt.invoke({\"answer\": state[\"answer\"]})\n",
    "    response = llm.invoke(prompt)\n",
    "    state[\"wolfram_answer\"] = response.content\n",
    "    print(\"end quering wolfram\", response.content)\n",
    "    return {\"wolfram_answer\": response.content}\n",
    "\n",
    "\n",
    "\n",
    "# Generate StateGraph\n",
    "def generate_builder():\n",
    "    global llm, vector_store\n",
    "    math_pages = fill_data()\n",
    "\n",
    "    llm = ChatOpenAI(model=\"gpt-4o-mini\")\n",
    "    embeddings = OpenAIEmbeddings(model=\"text-embedding-3-large\")\n",
    "    vector_store = Chroma(embedding_function=embeddings)\n",
    "\n",
    "    text_splitter = RecursiveCharacterTextSplitter(chunk_size=500, chunk_overlap=200)\n",
    "    all_splits = text_splitter.split_documents(math_pages)\n",
    "    vector_store.add_documents(documents=all_splits)\n",
    "\n",
    "    graph_builder = StateGraph(State).add_sequence([analyze_query, retrieve, generate, query_wolfram])\n",
    "\n",
    "    graph_builder.add_edge(START, \"analyze_query\")\n",
    "    graph_builder.add_edge(\"analyze_query\", \"retrieve\")\n",
    "    graph_builder.add_edge(\"retrieve\", \"generate\")\n",
    "    graph_builder.add_edge(\"generate\", \"query_wolfram\")\n",
    "    graph_builder.add_edge(\"query_wolfram\", END)\n",
    "\n",
    "    graph = graph_builder.compile()\n",
    "\n",
    "    return graph\n"
   ]
  },
  {
   "cell_type": "code",
   "execution_count": 4,
   "metadata": {},
   "outputs": [
    {
     "name": "stdout",
     "output_type": "stream",
     "text": [
      "410\n"
     ]
    }
   ],
   "source": [
    "from fastapi import FastAPI, HTTPException\n",
    "from langchain_openai import OpenAIEmbeddings, ChatOpenAI\n",
    "from langchain_text_splitters import RecursiveCharacterTextSplitter\n",
    "\n",
    "from langgraph.graph import START, StateGraph\n",
    "from langchain_core.prompts import PromptTemplate\n",
    "from langchain_chroma import Chroma\n",
    "\n",
    "app = FastAPI(title=\"Math Tutor\", description=\"Endpoints for math tutor\")\n",
    "\n",
    "llm = ChatOpenAI(model=\"gpt-4o-mini\")\n",
    "embeddings = OpenAIEmbeddings(model=\"text-embedding-3-large\")\n",
    "vector_store = Chroma(embedding_function=embeddings)\n",
    "\n",
    "graph = generate_builder()"
   ]
  },
  {
   "cell_type": "code",
   "execution_count": null,
   "metadata": {},
   "outputs": [
    {
     "name": "stdout",
     "output_type": "stream",
     "text": [
      "{'question': 'What is orthogonality?', 'query': {}, 'context': [], 'wolfram_answer': [], 'answer': ''}\n",
      "{'question': 'What is orthogonality?', 'query': {'query': 'What is orthogonality?', 'section': 'beginning'}, 'context': [], 'wolfram_answer': [], 'answer': ''}\n",
      "generating {'question': 'What is orthogonality?', 'query': {'query': 'What is orthogonality?', 'section': 'beginning'}, 'context': [], 'wolfram_answer': [], 'answer': ''}\n",
      "end quering wolfram Звичайно! Я готовий відповісти на ваше запитання. Будь ласка, задайте його.\n",
      "generating {'question': 'What is orthogonality?', 'query': {'query': 'What is orthogonality?', 'section': 'beginning'}, 'context': [], 'wolfram_answer': [], 'answer': ''}\n",
      "generating {'question': 'What is orthogonality?', 'query': {'query': 'What is orthogonality?', 'section': 'beginning'}, 'context': [], 'wolfram_answer': 'Звичайно! Я готовий відповісти на ваше запитання. Будь ласка, задайте його.', 'answer': 'Ортогональність - це властивість, що описує перпендикулярність векторів у векторному просторі. Два вектори називаються ортогональними, якщо їх скалярний добуток дорівнює нулю. Якщо вектори мають координати $(x_1, y_1)$ і $(x_2, y_2)$, то їхній скалярний добуток визначається як:\\n\\n$$\\nx_1 \\\\cdot x_2 + y_1 \\\\cdot y_2 = 0.\\n$$\\n\\nНа основі цього контексту, ось 10 запитань для підготовки до іспиту:\\n\\n1. Дайте визначення ортогональності векторів. Яка умова для двох векторів, щоб бути ортогональними?\\n\\n2. Знайдіть скалярний добуток векторів $\\\\mathbf{a} = (3, 4)$ та $\\\\mathbf{b} = (1, -2)$. Чи є ці вектори ортогональними?\\n\\n3. Дано два вектори $\\\\mathbf{u} = (2, 0, -1)$ та $\\\\mathbf{v} = (0, 3, 0)$. Обчисліть їхній скалярний добуток.\\n\\n4. Яка геометрична інтерпретація скалярного добутку? Яке значення він має у контексті кута між векторами?\\n\\n5. Нехай $\\\\mathbf{p} = (x, y)$ і $\\\\mathbf{q} = (y, -x)$. Доведіть, що вектори $\\\\mathbf{p}$ і $\\\\mathbf{q}$ є ортогональними.\\n\\n6. Знайдіть вектор, ортогональний до вектора $\\\\mathbf{a} = (1, 2)$. Які з векторів $\\\\mathbf{b} = (2, -1)$ та $\\\\mathbf{c} = (-2, 1)$ є ортогональними до $\\\\mathbf{a}$?\\n\\n7. Якщо вектори $\\\\mathbf{m} = (x_1, y_1)$ та $\\\\mathbf{n} = (x_2, y_2)$ є ортогональними, що можна сказати про їхні координати?\\n\\n8. Які умови повинні виконуватись для трьох векторів $\\\\mathbf{a}, \\\\mathbf{b}, \\\\mathbf{c}$, щоб вони були попарно ортогональними?\\n\\n9. Знайдіть кут між векторами $\\\\mathbf{p} = (4, 3)$ та $\\\\mathbf{q} = (1, 0)$. Чи є ці вектори ортогональними?\\n\\n10. Нехай вектори $\\\\mathbf{a} = (1, 2, 3)$ і $\\\\mathbf{b} = (4, -5, 6)$. Перевірте, чи є вони ортогональними, обчисливши їхній скалярний добуток. \\n\\nЦі запитання допоможуть вам закріпити знання про ортогональність векторів та їх властивості.'}\n",
      "end quering wolfram Ось 10 запитань для підготовки до іспиту на тему ортогональності векторів:\n",
      "\n",
      "1. **Дайте визначення ортогональності векторів. Яка умова для двох векторів, щоб бути ортогональними?**\n",
      "   Ортогональність векторів означає, що два вектори перпендикулярні один одному. Два вектори $\\mathbf{a}$ і $\\mathbf{b}$ є ортогональними, якщо їхній скалярний добуток дорівнює нулю: $ \\mathbf{a} \\cdot \\mathbf{b} = 0 $.\n",
      "\n",
      "2. **Знайдіть скалярний добуток векторів $\\mathbf{a} = (3, 4)$ та $\\mathbf{b} = (1, -2)$. Чи є ці вектори ортогональними?**\n",
      "   Скалярний добуток обчислюється як $ 3 \\cdot 1 + 4 \\cdot (-2) = 3 - 8 = -5 $. Оскільки добуток не дорівнює нулю, вектори не є ортогональними.\n",
      "\n",
      "3. **Дано два вектори $\\mathbf{u} = (2, 0, -1)$ та $\\mathbf{v} = (0, 3, 0)$. Обчисліть їхній скалярний добуток.**\n",
      "   Скалярний добуток дорівнює $ 2 \\cdot 0 + 0 \\cdot 3 + (-1) \\cdot 0 = 0 $. Отже, вектори $\\mathbf{u}$ і $\\mathbf{v}$ є ортогональними.\n",
      "\n",
      "4. **Яка геометрична інтерпретація скалярного добутку? Яке значення він має у контексті кута між векторами?**\n",
      "   Скалярний добуток векторів можна інтерпретувати як добуток довжин векторів на косинус кута між ними: $ \\mathbf{a} \\cdot \\mathbf{b} = |\\mathbf{a}| |\\mathbf{b}| \\cos(\\theta) $. Якщо скалярний добуток дорівнює нулю, це означає, що вектори перпендикулярні (кут між ними 90 градусів).\n",
      "\n",
      "5. **Нехай $\\mathbf{p} = (x, y)$ і $\\mathbf{q} = (y, -x)$. Доведіть, що вектори $\\mathbf{p}$ і $\\mathbf{q}$ є ортогональними.**\n",
      "   Скалярний добуток $\\mathbf{p} \\cdot \\mathbf{q} = x \\cdot y + y \\cdot (-x) = xy - xy = 0$. Отже, вектори $\\mathbf{p}$ і $\\mathbf{q}$ є ортогональними.\n",
      "\n",
      "6. **Знайдіть вектор, ортогональний до вектора $\\mathbf{a} = (1, 2)$. Які з векторів $\\mathbf{b} = (2, -1)$ та $\\mathbf{c} = (-2, 1)$ є ортогональними до $\\mathbf{a}$?**\n",
      "   Скалярний добуток з вектором $\\mathbf{b}$: $1 \\cdot 2 + 2 \\cdot (-1) = 2 - 2 = 0$. Вектори $\\mathbf{a}$ і $\\mathbf{b}$ ортогональні. Для вектора $\\mathbf{c}$: $1 \\cdot (-2) + 2 \\cdot 1 = -2 + 2 = 0$. Вектори $\\mathbf{a}$ і $\\mathbf{c}$ також ортогональні.\n",
      "\n",
      "7. **Якщо вектори $\\mathbf{m} = (x_1, y_1)$ та $\\mathbf{n} = (x_2, y_2)$ є ортогональними, що можна сказати про їхні координати?**\n",
      "   Якщо вектори ортогональні, то виконується умова: $x_1 \\cdot x_2 + y_1 \\cdot y_2 = 0$.\n",
      "\n",
      "8. **Які умови повинні виконуватись для трьох векторів $\\mathbf{a}, \\mathbf{b}, \\mathbf{c}$, щоб вони були попарно ортогональними?**\n",
      "   Для трьох векторів бути попарно ортогональними, повинні виконуватись умови: $ \\mathbf{a} \\cdot \\mathbf{b} = 0 $, $ \\mathbf{a} \\cdot \\mathbf{c} = 0 $, $ \\mathbf{b} \\cdot \\mathbf{c} = 0 $.\n",
      "\n",
      "9. **Знайдіть кут між векторами $\\mathbf{p} = (4, 3)$ та $\\mathbf{q} = (1, 0)$. Чи є ці вектори ортогональними?**\n",
      "   Скалярний добуток: $4 \\cdot 1 + 3 \\cdot 0 = 4$. Оскільки добуток не дорівнює нулю, вектори не є ортогональними. Кут між ними можна знайти за формулою: $ \\cos(\\theta) = \\frac{\\mathbf{p} \\cdot \\mathbf{q}}{|\\mathbf{p}| |\\mathbf{q}|} $.\n",
      "\n",
      "10. **Нехай вектори $\\mathbf{a} = (1, 2, 3)$ і $\\mathbf{b} = (4, -5, 6)$. Перевірте, чи є вони ортогональними, обчисливши їхній скалярний добуток.**\n",
      "    Скалярний добуток: $1 \\cdot 4 + 2 \\cdot (-5) + 3 \\cdot 6 = 4 - 10 + 18 = 12$. Оскільки добуток не дорівнює нулю, вектори не є ортогональними.\n",
      "\n",
      "Ці запитання допоможуть вам закріпити знання про ортогональність векторів та їх властивості.\n",
      "generating {'question': 'What is orthogonality?', 'query': {'query': 'What is orthogonality?', 'section': 'beginning'}, 'context': [], 'wolfram_answer': 'Звичайно! Я готовий відповісти на ваше запитання. Будь ласка, задайте його.', 'answer': 'Ортогональність - це властивість, що описує перпендикулярність векторів у векторному просторі. Два вектори називаються ортогональними, якщо їх скалярний добуток дорівнює нулю. Якщо вектори мають координати $(x_1, y_1)$ і $(x_2, y_2)$, то їхній скалярний добуток визначається як:\\n\\n$$\\nx_1 \\\\cdot x_2 + y_1 \\\\cdot y_2 = 0.\\n$$\\n\\nНа основі цього контексту, ось 10 запитань для підготовки до іспиту:\\n\\n1. Дайте визначення ортогональності векторів. Яка умова для двох векторів, щоб бути ортогональними?\\n\\n2. Знайдіть скалярний добуток векторів $\\\\mathbf{a} = (3, 4)$ та $\\\\mathbf{b} = (1, -2)$. Чи є ці вектори ортогональними?\\n\\n3. Дано два вектори $\\\\mathbf{u} = (2, 0, -1)$ та $\\\\mathbf{v} = (0, 3, 0)$. Обчисліть їхній скалярний добуток.\\n\\n4. Яка геометрична інтерпретація скалярного добутку? Яке значення він має у контексті кута між векторами?\\n\\n5. Нехай $\\\\mathbf{p} = (x, y)$ і $\\\\mathbf{q} = (y, -x)$. Доведіть, що вектори $\\\\mathbf{p}$ і $\\\\mathbf{q}$ є ортогональними.\\n\\n6. Знайдіть вектор, ортогональний до вектора $\\\\mathbf{a} = (1, 2)$. Які з векторів $\\\\mathbf{b} = (2, -1)$ та $\\\\mathbf{c} = (-2, 1)$ є ортогональними до $\\\\mathbf{a}$?\\n\\n7. Якщо вектори $\\\\mathbf{m} = (x_1, y_1)$ та $\\\\mathbf{n} = (x_2, y_2)$ є ортогональними, що можна сказати про їхні координати?\\n\\n8. Які умови повинні виконуватись для трьох векторів $\\\\mathbf{a}, \\\\mathbf{b}, \\\\mathbf{c}$, щоб вони були попарно ортогональними?\\n\\n9. Знайдіть кут між векторами $\\\\mathbf{p} = (4, 3)$ та $\\\\mathbf{q} = (1, 0)$. Чи є ці вектори ортогональними?\\n\\n10. Нехай вектори $\\\\mathbf{a} = (1, 2, 3)$ і $\\\\mathbf{b} = (4, -5, 6)$. Перевірте, чи є вони ортогональними, обчисливши їхній скалярний добуток. \\n\\nЦі запитання допоможуть вам закріпити знання про ортогональність векторів та їх властивості.'}\n",
      "generating {'question': 'What is orthogonality?', 'query': {'query': 'What is orthogonality?', 'section': 'beginning'}, 'context': [], 'wolfram_answer': 'Ось 10 запитань для підготовки до іспиту на тему ортогональності векторів:\\n\\n1. **Дайте визначення ортогональності векторів. Яка умова для двох векторів, щоб бути ортогональними?**\\n   Ортогональність векторів означає, що два вектори перпендикулярні один одному. Два вектори $\\\\mathbf{a}$ і $\\\\mathbf{b}$ є ортогональними, якщо їхній скалярний добуток дорівнює нулю: $ \\\\mathbf{a} \\\\cdot \\\\mathbf{b} = 0 $.\\n\\n2. **Знайдіть скалярний добуток векторів $\\\\mathbf{a} = (3, 4)$ та $\\\\mathbf{b} = (1, -2)$. Чи є ці вектори ортогональними?**\\n   Скалярний добуток обчислюється як $ 3 \\\\cdot 1 + 4 \\\\cdot (-2) = 3 - 8 = -5 $. Оскільки добуток не дорівнює нулю, вектори не є ортогональними.\\n\\n3. **Дано два вектори $\\\\mathbf{u} = (2, 0, -1)$ та $\\\\mathbf{v} = (0, 3, 0)$. Обчисліть їхній скалярний добуток.**\\n   Скалярний добуток дорівнює $ 2 \\\\cdot 0 + 0 \\\\cdot 3 + (-1) \\\\cdot 0 = 0 $. Отже, вектори $\\\\mathbf{u}$ і $\\\\mathbf{v}$ є ортогональними.\\n\\n4. **Яка геометрична інтерпретація скалярного добутку? Яке значення він має у контексті кута між векторами?**\\n   Скалярний добуток векторів можна інтерпретувати як добуток довжин векторів на косинус кута між ними: $ \\\\mathbf{a} \\\\cdot \\\\mathbf{b} = |\\\\mathbf{a}| |\\\\mathbf{b}| \\\\cos(\\\\theta) $. Якщо скалярний добуток дорівнює нулю, це означає, що вектори перпендикулярні (кут між ними 90 градусів).\\n\\n5. **Нехай $\\\\mathbf{p} = (x, y)$ і $\\\\mathbf{q} = (y, -x)$. Доведіть, що вектори $\\\\mathbf{p}$ і $\\\\mathbf{q}$ є ортогональними.**\\n   Скалярний добуток $\\\\mathbf{p} \\\\cdot \\\\mathbf{q} = x \\\\cdot y + y \\\\cdot (-x) = xy - xy = 0$. Отже, вектори $\\\\mathbf{p}$ і $\\\\mathbf{q}$ є ортогональними.\\n\\n6. **Знайдіть вектор, ортогональний до вектора $\\\\mathbf{a} = (1, 2)$. Які з векторів $\\\\mathbf{b} = (2, -1)$ та $\\\\mathbf{c} = (-2, 1)$ є ортогональними до $\\\\mathbf{a}$?**\\n   Скалярний добуток з вектором $\\\\mathbf{b}$: $1 \\\\cdot 2 + 2 \\\\cdot (-1) = 2 - 2 = 0$. Вектори $\\\\mathbf{a}$ і $\\\\mathbf{b}$ ортогональні. Для вектора $\\\\mathbf{c}$: $1 \\\\cdot (-2) + 2 \\\\cdot 1 = -2 + 2 = 0$. Вектори $\\\\mathbf{a}$ і $\\\\mathbf{c}$ також ортогональні.\\n\\n7. **Якщо вектори $\\\\mathbf{m} = (x_1, y_1)$ та $\\\\mathbf{n} = (x_2, y_2)$ є ортогональними, що можна сказати про їхні координати?**\\n   Якщо вектори ортогональні, то виконується умова: $x_1 \\\\cdot x_2 + y_1 \\\\cdot y_2 = 0$.\\n\\n8. **Які умови повинні виконуватись для трьох векторів $\\\\mathbf{a}, \\\\mathbf{b}, \\\\mathbf{c}$, щоб вони були попарно ортогональними?**\\n   Для трьох векторів бути попарно ортогональними, повинні виконуватись умови: $ \\\\mathbf{a} \\\\cdot \\\\mathbf{b} = 0 $, $ \\\\mathbf{a} \\\\cdot \\\\mathbf{c} = 0 $, $ \\\\mathbf{b} \\\\cdot \\\\mathbf{c} = 0 $.\\n\\n9. **Знайдіть кут між векторами $\\\\mathbf{p} = (4, 3)$ та $\\\\mathbf{q} = (1, 0)$. Чи є ці вектори ортогональними?**\\n   Скалярний добуток: $4 \\\\cdot 1 + 3 \\\\cdot 0 = 4$. Оскільки добуток не дорівнює нулю, вектори не є ортогональними. Кут між ними можна знайти за формулою: $ \\\\cos(\\\\theta) = \\\\frac{\\\\mathbf{p} \\\\cdot \\\\mathbf{q}}{|\\\\mathbf{p}| |\\\\mathbf{q}|} $.\\n\\n10. **Нехай вектори $\\\\mathbf{a} = (1, 2, 3)$ і $\\\\mathbf{b} = (4, -5, 6)$. Перевірте, чи є вони ортогональними, обчисливши їхній скалярний добуток.**\\n    Скалярний добуток: $1 \\\\cdot 4 + 2 \\\\cdot (-5) + 3 \\\\cdot 6 = 4 - 10 + 18 = 12$. Оскільки добуток не дорівнює нулю, вектори не є ортогональними.\\n\\nЦі запитання допоможуть вам закріпити знання про ортогональність векторів та їх властивості.', 'answer': \"Ортогональність — це поняття в математиці, яке вказує на перпендикулярність векторів або функцій. У векторному просторі два вектори вважаються ортогональними, якщо їх скалярний добуток дорівнює нулю. Це означає, що вони утворюють прямий кут один з одним. Ортогональність є важливим поняттям у різних областях математики, включаючи лінійну алгебру, аналітичну геометрію та функціональний аналіз.\\n\\nОсь 10 запитань для підготовки до екзамену з ортогональності та пов'язаних тем:\\n\\n1. Яке визначення ортогональності векторів у $\\\\mathbb{R}^n$? Наведіть приклад.\\n\\n2. Нехай вектори $\\\\mathbf{u} = (2, -3, 1)$ та $\\\\mathbf{v} = (1, 2, 3)$. Чи є вони ортогональними? Обчисліть їх скалярний добуток.\\n\\n3. Які умови повинні виконуватись, щоб дві функції $f(x)$ та $g(x)$ вважалися ортогональними на інтервалі $[a, b]$?\\n\\n4. Обчисліть скалярний добуток векторів $\\\\mathbf{a} = (4, 0, -2)$ та $\\\\mathbf{b} = (1, 5, 3)$. Чи є вони ортогональними?\\n\\n5. Нехай $f(x) = x$ та $g(x) = x^2$. Чи є ці функції ортогональними на інтервалі $[0, 1]$? Обчисліть відповідний інтеграл.\\n\\n6. Яка геометрична інтерпретація ортогональності векторів у тривимірному просторі?\\n\\n7. Нехай вектори $\\\\mathbf{p} = (3, 4, 0)$ та $\\\\mathbf{q} = (0, 0, 5)$. Поясніть, чому ці вектори є ортогональними.\\n\\n8. Обчисліть проекцію вектора $\\\\mathbf{a} = (3, 2)$ на вектор $\\\\mathbf{b} = (1, 1)$. Чи є вектори $\\\\mathbf{a}$ та $\\\\mathbf{b}$ ортогональними?\\n\\n9. Які властивості має ортогональна матриця? Наведіть приклад ортогональної матриці.\\n\\n10. Поясніть, як ортогональність використовується у методі найменших квадратів для знаходження апроксимації.\\n\\nЦі запитання допоможуть вам краще зрозуміти концепцію ортогональності та її застосування в різних математичних контекстах.\"}\n",
      "end quering wolfram Ось відповіді на запитання щодо ортогональності:\n",
      "\n",
      "1. Ортогональність векторів у $\\mathbb{R}^n$ визначається як те, що скалярний добуток векторів дорівнює нулю. Наприклад, вектори $\\mathbf{u} = (1, 0)$ і $\\mathbf{v} = (0, 1)$ є ортогональними, оскільки їх скалярний добуток дорівнює $1 \\cdot 0 + 0 \\cdot 1 = 0$.\n",
      "\n",
      "2. Обчислимо скалярний добуток векторів $\\mathbf{u} = (2, -3, 1)$ та $\\mathbf{v} = (1, 2, 3)$:\n",
      "   $$\n",
      "   \\mathbf{u} \\cdot \\mathbf{v} = 2 \\cdot 1 + (-3) \\cdot 2 + 1 \\cdot 3 = 2 - 6 + 3 = -1.\n",
      "   $$\n",
      "   Вектори не є ортогональними, оскільки скалярний добуток не дорівнює нулю.\n",
      "\n",
      "3. Дві функції $f(x)$ та $g(x)$ вважаються ортогональними на інтервалі $[a, b]$, якщо виконується рівність:\n",
      "   $$\n",
      "   \\int_a^b f(x) g(x) \\, dx = 0.\n",
      "   $$\n",
      "\n",
      "4. Обчислимо скалярний добуток векторів $\\mathbf{a} = (4, 0, -2)$ та $\\mathbf{b} = (1, 5, 3)$:\n",
      "   $$\n",
      "   \\mathbf{a} \\cdot \\mathbf{b} = 4 \\cdot 1 + 0 \\cdot 5 + (-2) \\cdot 3 = 4 + 0 - 6 = -2.\n",
      "   $$\n",
      "   Вектори не є ортогональними.\n",
      "\n",
      "5. Для функцій $f(x) = x$ та $g(x) = x^2$ на інтервалі $[0, 1]$ обчислимо інтеграл:\n",
      "   $$\n",
      "   \\int_0^1 x \\cdot x^2 \\, dx = \\int_0^1 x^3 \\, dx = \\left[ \\frac{x^4}{4} \\right]_0^1 = \\frac{1}{4}.\n",
      "   $$\n",
      "   Функції не є ортогональними, оскільки інтеграл не дорівнює нулю.\n",
      "\n",
      "6. Геометрична інтерпретація ортогональності векторів у тривимірному просторі полягає в тому, що два вектори перетинаються під прямим кутом, що можна уявити як взаємне розташування двох прямих у просторі, які не мають спільних напрямків.\n",
      "\n",
      "7. Вектори $\\mathbf{p} = (3, 4, 0)$ та $\\mathbf{q} = (0, 0, 5)$ є ортогональними, оскільки їх скалярний добуток дорівнює:\n",
      "   $$\n",
      "   \\mathbf{p} \\cdot \\mathbf{q} = 3 \\cdot 0 + 4 \\cdot 0 + 0 \\cdot 5 = 0.\n",
      "   $$\n",
      "\n",
      "8. Проекція вектора $\\mathbf{a} = (3, 2)$ на вектор $\\mathbf{b} = (1, 1)$ обчислюється за формулою:\n",
      "   $$\n",
      "   \\text{proj}_{\\mathbf{b}} \\mathbf{a} = \\frac{\\mathbf{a} \\cdot \\mathbf{b}}{\\mathbf{b} \\cdot \\mathbf{b}} \\mathbf{b} = \\frac{3 \\cdot 1 + 2 \\cdot 1}{1 \\cdot 1 + 1 \\cdot 1} (1, 1) = \\frac{5}{2} (1, 1) = \\left( \\frac{5}{2}, \\frac{5}{2} \\right).\n",
      "   $$\n",
      "   Вектори не є ортогональними, оскільки їх скалярний добуток дорівнює $3 + 2 = 5 \\neq 0$.\n",
      "\n",
      "9. Ортогональна матриця має властивість, що її транспонована матриця дорівнює оберненій:\n",
      "   $$\n",
      "   \\mathbf{Q}^T \\mathbf{Q} = \\mathbf{I}.\n",
      "   $$\n",
      "   Прикладом ортогональної матриці є:\n",
      "   $$\n",
      "   \\mathbf{Q} = \\begin{pmatrix}\n",
      "   1 & 0 \\\\\n",
      "   0 & -1\n",
      "   \\end{pmatrix}.\n",
      "   $$\n",
      "\n",
      "10. Ортогональність використовується у методі найменших квадратів для забезпечення того, що залишки (різниця між спостережуваними та апроксимованими значеннями) є ортогональними до простору, сподівання якого моделюється. Це означає, що проекція залишків на простір пояснювальних змінних дорівнює нулю.\n",
      "\n",
      "Ці запитання та відповіді допоможуть вам краще зрозуміти концепцію ортогональності та її застосування в різних математичних контекстах.\n",
      "generating {'question': 'What is orthogonality?', 'query': {'query': 'What is orthogonality?', 'section': 'beginning'}, 'context': [], 'wolfram_answer': 'Ось 10 запитань для підготовки до іспиту на тему ортогональності векторів:\\n\\n1. **Дайте визначення ортогональності векторів. Яка умова для двох векторів, щоб бути ортогональними?**\\n   Ортогональність векторів означає, що два вектори перпендикулярні один одному. Два вектори $\\\\mathbf{a}$ і $\\\\mathbf{b}$ є ортогональними, якщо їхній скалярний добуток дорівнює нулю: $ \\\\mathbf{a} \\\\cdot \\\\mathbf{b} = 0 $.\\n\\n2. **Знайдіть скалярний добуток векторів $\\\\mathbf{a} = (3, 4)$ та $\\\\mathbf{b} = (1, -2)$. Чи є ці вектори ортогональними?**\\n   Скалярний добуток обчислюється як $ 3 \\\\cdot 1 + 4 \\\\cdot (-2) = 3 - 8 = -5 $. Оскільки добуток не дорівнює нулю, вектори не є ортогональними.\\n\\n3. **Дано два вектори $\\\\mathbf{u} = (2, 0, -1)$ та $\\\\mathbf{v} = (0, 3, 0)$. Обчисліть їхній скалярний добуток.**\\n   Скалярний добуток дорівнює $ 2 \\\\cdot 0 + 0 \\\\cdot 3 + (-1) \\\\cdot 0 = 0 $. Отже, вектори $\\\\mathbf{u}$ і $\\\\mathbf{v}$ є ортогональними.\\n\\n4. **Яка геометрична інтерпретація скалярного добутку? Яке значення він має у контексті кута між векторами?**\\n   Скалярний добуток векторів можна інтерпретувати як добуток довжин векторів на косинус кута між ними: $ \\\\mathbf{a} \\\\cdot \\\\mathbf{b} = |\\\\mathbf{a}| |\\\\mathbf{b}| \\\\cos(\\\\theta) $. Якщо скалярний добуток дорівнює нулю, це означає, що вектори перпендикулярні (кут між ними 90 градусів).\\n\\n5. **Нехай $\\\\mathbf{p} = (x, y)$ і $\\\\mathbf{q} = (y, -x)$. Доведіть, що вектори $\\\\mathbf{p}$ і $\\\\mathbf{q}$ є ортогональними.**\\n   Скалярний добуток $\\\\mathbf{p} \\\\cdot \\\\mathbf{q} = x \\\\cdot y + y \\\\cdot (-x) = xy - xy = 0$. Отже, вектори $\\\\mathbf{p}$ і $\\\\mathbf{q}$ є ортогональними.\\n\\n6. **Знайдіть вектор, ортогональний до вектора $\\\\mathbf{a} = (1, 2)$. Які з векторів $\\\\mathbf{b} = (2, -1)$ та $\\\\mathbf{c} = (-2, 1)$ є ортогональними до $\\\\mathbf{a}$?**\\n   Скалярний добуток з вектором $\\\\mathbf{b}$: $1 \\\\cdot 2 + 2 \\\\cdot (-1) = 2 - 2 = 0$. Вектори $\\\\mathbf{a}$ і $\\\\mathbf{b}$ ортогональні. Для вектора $\\\\mathbf{c}$: $1 \\\\cdot (-2) + 2 \\\\cdot 1 = -2 + 2 = 0$. Вектори $\\\\mathbf{a}$ і $\\\\mathbf{c}$ також ортогональні.\\n\\n7. **Якщо вектори $\\\\mathbf{m} = (x_1, y_1)$ та $\\\\mathbf{n} = (x_2, y_2)$ є ортогональними, що можна сказати про їхні координати?**\\n   Якщо вектори ортогональні, то виконується умова: $x_1 \\\\cdot x_2 + y_1 \\\\cdot y_2 = 0$.\\n\\n8. **Які умови повинні виконуватись для трьох векторів $\\\\mathbf{a}, \\\\mathbf{b}, \\\\mathbf{c}$, щоб вони були попарно ортогональними?**\\n   Для трьох векторів бути попарно ортогональними, повинні виконуватись умови: $ \\\\mathbf{a} \\\\cdot \\\\mathbf{b} = 0 $, $ \\\\mathbf{a} \\\\cdot \\\\mathbf{c} = 0 $, $ \\\\mathbf{b} \\\\cdot \\\\mathbf{c} = 0 $.\\n\\n9. **Знайдіть кут між векторами $\\\\mathbf{p} = (4, 3)$ та $\\\\mathbf{q} = (1, 0)$. Чи є ці вектори ортогональними?**\\n   Скалярний добуток: $4 \\\\cdot 1 + 3 \\\\cdot 0 = 4$. Оскільки добуток не дорівнює нулю, вектори не є ортогональними. Кут між ними можна знайти за формулою: $ \\\\cos(\\\\theta) = \\\\frac{\\\\mathbf{p} \\\\cdot \\\\mathbf{q}}{|\\\\mathbf{p}| |\\\\mathbf{q}|} $.\\n\\n10. **Нехай вектори $\\\\mathbf{a} = (1, 2, 3)$ і $\\\\mathbf{b} = (4, -5, 6)$. Перевірте, чи є вони ортогональними, обчисливши їхній скалярний добуток.**\\n    Скалярний добуток: $1 \\\\cdot 4 + 2 \\\\cdot (-5) + 3 \\\\cdot 6 = 4 - 10 + 18 = 12$. Оскільки добуток не дорівнює нулю, вектори не є ортогональними.\\n\\nЦі запитання допоможуть вам закріпити знання про ортогональність векторів та їх властивості.', 'answer': \"Ортогональність — це поняття в математиці, яке вказує на перпендикулярність векторів або функцій. У векторному просторі два вектори вважаються ортогональними, якщо їх скалярний добуток дорівнює нулю. Це означає, що вони утворюють прямий кут один з одним. Ортогональність є важливим поняттям у різних областях математики, включаючи лінійну алгебру, аналітичну геометрію та функціональний аналіз.\\n\\nОсь 10 запитань для підготовки до екзамену з ортогональності та пов'язаних тем:\\n\\n1. Яке визначення ортогональності векторів у $\\\\mathbb{R}^n$? Наведіть приклад.\\n\\n2. Нехай вектори $\\\\mathbf{u} = (2, -3, 1)$ та $\\\\mathbf{v} = (1, 2, 3)$. Чи є вони ортогональними? Обчисліть їх скалярний добуток.\\n\\n3. Які умови повинні виконуватись, щоб дві функції $f(x)$ та $g(x)$ вважалися ортогональними на інтервалі $[a, b]$?\\n\\n4. Обчисліть скалярний добуток векторів $\\\\mathbf{a} = (4, 0, -2)$ та $\\\\mathbf{b} = (1, 5, 3)$. Чи є вони ортогональними?\\n\\n5. Нехай $f(x) = x$ та $g(x) = x^2$. Чи є ці функції ортогональними на інтервалі $[0, 1]$? Обчисліть відповідний інтеграл.\\n\\n6. Яка геометрична інтерпретація ортогональності векторів у тривимірному просторі?\\n\\n7. Нехай вектори $\\\\mathbf{p} = (3, 4, 0)$ та $\\\\mathbf{q} = (0, 0, 5)$. Поясніть, чому ці вектори є ортогональними.\\n\\n8. Обчисліть проекцію вектора $\\\\mathbf{a} = (3, 2)$ на вектор $\\\\mathbf{b} = (1, 1)$. Чи є вектори $\\\\mathbf{a}$ та $\\\\mathbf{b}$ ортогональними?\\n\\n9. Які властивості має ортогональна матриця? Наведіть приклад ортогональної матриці.\\n\\n10. Поясніть, як ортогональність використовується у методі найменших квадратів для знаходження апроксимації.\\n\\nЦі запитання допоможуть вам краще зрозуміти концепцію ортогональності та її застосування в різних математичних контекстах.\"}\n",
      "generating {'question': 'What is orthogonality?', 'query': {'query': 'What is orthogonality?', 'section': 'beginning'}, 'context': [], 'wolfram_answer': 'Ось відповіді на запитання щодо ортогональності:\\n\\n1. Ортогональність векторів у $\\\\mathbb{R}^n$ визначається як те, що скалярний добуток векторів дорівнює нулю. Наприклад, вектори $\\\\mathbf{u} = (1, 0)$ і $\\\\mathbf{v} = (0, 1)$ є ортогональними, оскільки їх скалярний добуток дорівнює $1 \\\\cdot 0 + 0 \\\\cdot 1 = 0$.\\n\\n2. Обчислимо скалярний добуток векторів $\\\\mathbf{u} = (2, -3, 1)$ та $\\\\mathbf{v} = (1, 2, 3)$:\\n   $$\\n   \\\\mathbf{u} \\\\cdot \\\\mathbf{v} = 2 \\\\cdot 1 + (-3) \\\\cdot 2 + 1 \\\\cdot 3 = 2 - 6 + 3 = -1.\\n   $$\\n   Вектори не є ортогональними, оскільки скалярний добуток не дорівнює нулю.\\n\\n3. Дві функції $f(x)$ та $g(x)$ вважаються ортогональними на інтервалі $[a, b]$, якщо виконується рівність:\\n   $$\\n   \\\\int_a^b f(x) g(x) \\\\, dx = 0.\\n   $$\\n\\n4. Обчислимо скалярний добуток векторів $\\\\mathbf{a} = (4, 0, -2)$ та $\\\\mathbf{b} = (1, 5, 3)$:\\n   $$\\n   \\\\mathbf{a} \\\\cdot \\\\mathbf{b} = 4 \\\\cdot 1 + 0 \\\\cdot 5 + (-2) \\\\cdot 3 = 4 + 0 - 6 = -2.\\n   $$\\n   Вектори не є ортогональними.\\n\\n5. Для функцій $f(x) = x$ та $g(x) = x^2$ на інтервалі $[0, 1]$ обчислимо інтеграл:\\n   $$\\n   \\\\int_0^1 x \\\\cdot x^2 \\\\, dx = \\\\int_0^1 x^3 \\\\, dx = \\\\left[ \\\\frac{x^4}{4} \\\\right]_0^1 = \\\\frac{1}{4}.\\n   $$\\n   Функції не є ортогональними, оскільки інтеграл не дорівнює нулю.\\n\\n6. Геометрична інтерпретація ортогональності векторів у тривимірному просторі полягає в тому, що два вектори перетинаються під прямим кутом, що можна уявити як взаємне розташування двох прямих у просторі, які не мають спільних напрямків.\\n\\n7. Вектори $\\\\mathbf{p} = (3, 4, 0)$ та $\\\\mathbf{q} = (0, 0, 5)$ є ортогональними, оскільки їх скалярний добуток дорівнює:\\n   $$\\n   \\\\mathbf{p} \\\\cdot \\\\mathbf{q} = 3 \\\\cdot 0 + 4 \\\\cdot 0 + 0 \\\\cdot 5 = 0.\\n   $$\\n\\n8. Проекція вектора $\\\\mathbf{a} = (3, 2)$ на вектор $\\\\mathbf{b} = (1, 1)$ обчислюється за формулою:\\n   $$\\n   \\\\text{proj}_{\\\\mathbf{b}} \\\\mathbf{a} = \\\\frac{\\\\mathbf{a} \\\\cdot \\\\mathbf{b}}{\\\\mathbf{b} \\\\cdot \\\\mathbf{b}} \\\\mathbf{b} = \\\\frac{3 \\\\cdot 1 + 2 \\\\cdot 1}{1 \\\\cdot 1 + 1 \\\\cdot 1} (1, 1) = \\\\frac{5}{2} (1, 1) = \\\\left( \\\\frac{5}{2}, \\\\frac{5}{2} \\\\right).\\n   $$\\n   Вектори не є ортогональними, оскільки їх скалярний добуток дорівнює $3 + 2 = 5 \\\\neq 0$.\\n\\n9. Ортогональна матриця має властивість, що її транспонована матриця дорівнює оберненій:\\n   $$\\n   \\\\mathbf{Q}^T \\\\mathbf{Q} = \\\\mathbf{I}.\\n   $$\\n   Прикладом ортогональної матриці є:\\n   $$\\n   \\\\mathbf{Q} = \\\\begin{pmatrix}\\n   1 & 0 \\\\\\\\\\n   0 & -1\\n   \\\\end{pmatrix}.\\n   $$\\n\\n10. Ортогональність використовується у методі найменших квадратів для забезпечення того, що залишки (різниця між спостережуваними та апроксимованими значеннями) є ортогональними до простору, сподівання якого моделюється. Це означає, що проекція залишків на простір пояснювальних змінних дорівнює нулю.\\n\\nЦі запитання та відповіді допоможуть вам краще зрозуміти концепцію ортогональності та її застосування в різних математичних контекстах.', 'answer': 'Ортогональність — це поняття з геометрії та лінійної алгебри, яке описує взаємне перпендикулярне розташування векторів або функцій. Два вектори в евклідовому просторі є ортогональними, якщо їх скалярний добуток дорівнює нулю. Це означає, що вони перетинаються під прямим кутом. У контексті функцій, ортогональність може бути визначена за допомогою інтегралів, де дві функції $f(x)$ і $g(x)$ є ортогональними на відрізку $[a, b]$, якщо:\\n\\n$$ \\\\int_a^b f(x) g(x) \\\\, dx = 0 $$\\n\\nОсь 10 запитань для підготовки до екзамену:\\n\\n1. Що таке ортогональні вектори? Наведіть приклад.\\n2. Доведіть, що вектори $\\\\mathbf{a} = (1, 2)$ і $\\\\mathbf{b} = (2, -1)$ не є ортогональними.\\n3. Яке геометричне значення скалярного добутку двох векторів?\\n4. Знайдіть ортогональне проекцію вектора $\\\\mathbf{a} = (3, 4)$ на вектор $\\\\mathbf{b} = (1, 0)$.\\n5. Дайте визначення ортогональної системи векторів.\\n6. Чи є вектори $\\\\mathbf{c} = (0, 5)$ і $\\\\mathbf{d} = (3, 0)$ ортогональними? Поясніть.\\n7. Які умови повинні виконуватися для того, щоб два функції $f(x)$ і $g(x)$ були ортогональними на інтервалі $[0, 1]$?\\n8. Обчисліть інтеграл $\\\\int_0^1 x(1-x) \\\\, dx$ і перевірте, чи є функції $f(x) = x$ і $g(x) = 1 - x$ ортогональними.\\n9. Які додатки поняття ортогональності в математиці та фізиці?\\n10. Якщо вектори $\\\\mathbf{e_1} = (1, 0)$ і $\\\\mathbf{e_2} = (0, 1)$ є ортогональними, то як можна визначити довжину вектора $\\\\mathbf{v} = (3, 4)$?'}\n",
      "end quering wolfram Ось відповіді на запитання для підготовки до екзамену з ортогональності:\n",
      "\n",
      "1. **Що таке ортогональні вектори? Наведіть приклад.**  \n",
      "   Ортогональні вектори — це вектори, які перетинаються під прямим кутом, тобто їх скалярний добуток дорівнює нулю. Наприклад, вектори $\\mathbf{a} = (1, 0)$ і $\\mathbf{b} = (0, 1)$ є ортогональними.\n",
      "\n",
      "2. **Доведіть, що вектори $\\mathbf{a} = (1, 2)$ і $\\mathbf{b} = (2, -1)$ не є ортогональними.**  \n",
      "   Обчислимо скалярний добуток:  \n",
      "   $$ \\mathbf{a} \\cdot \\mathbf{b} = 1 \\cdot 2 + 2 \\cdot (-1) = 2 - 2 = 0 $$  \n",
      "   Таким чином, вектори $\\mathbf{a}$ і $\\mathbf{b}$ є ортогональними.\n",
      "\n",
      "3. **Яке геометричне значення скалярного добутку двох векторів?**  \n",
      "   Скалярний добуток двох векторів дорівнює добутку їхніх довжин і косинуса кута між ними:  \n",
      "   $$ \\mathbf{a} \\cdot \\mathbf{b} = |\\mathbf{a}| |\\mathbf{b}| \\cos(\\theta) $$  \n",
      "   Якщо скалярний добуток дорівнює нулю, то вектори перетинаються під прямим кутом.\n",
      "\n",
      "4. **Знайдіть ортогональне проекцію вектора $\\mathbf{a} = (3, 4)$ на вектор $\\mathbf{b} = (1, 0)$.**  \n",
      "   Ортогональна проекція вектора $\\mathbf{a}$ на вектор $\\mathbf{b}$ обчислюється за формулою:  \n",
      "   $$ \\text{proj}_{\\mathbf{b}} \\mathbf{a} = \\frac{\\mathbf{a} \\cdot \\mathbf{b}}{\\mathbf{b} \\cdot \\mathbf{b}} \\mathbf{b} $$  \n",
      "   Обчислимо:  \n",
      "   $$ \\mathbf{a} \\cdot \\mathbf{b} = 3 \\cdot 1 + 4 \\cdot 0 = 3 $$  \n",
      "   $$ \\mathbf{b} \\cdot \\mathbf{b} = 1 \\cdot 1 + 0 \\cdot 0 = 1 $$  \n",
      "   Таким чином,  \n",
      "   $$ \\text{proj}_{\\mathbf{b}} \\mathbf{a} = 3 \\cdot (1, 0) = (3, 0) $$\n",
      "\n",
      "5. **Дайте визначення ортогональної системи векторів.**  \n",
      "   Ортогональна система векторів складається з векторів, які є парами ортогональними один до одного, тобто скалярний добуток будь-якої пари векторів з цієї системи дорівнює нулю.\n",
      "\n",
      "6. **Чи є вектори $\\mathbf{c} = (0, 5)$ і $\\mathbf{d} = (3, 0)$ ортогональними? Поясніть.**  \n",
      "   Обчислимо скалярний добуток:  \n",
      "   $$ \\mathbf{c} \\cdot \\mathbf{d} = 0 \\cdot 3 + 5 \\cdot 0 = 0 $$  \n",
      "   Таким чином, вектори $\\mathbf{c}$ і $\\mathbf{d}$ є ортогональними.\n",
      "\n",
      "7. **Які умови повинні виконуватися для того, щоб два функції $f(x)$ і $g(x)$ були ортогональними на інтервалі $[0, 1]$?**  \n",
      "   Функції $f(x)$ і $g(x)$ є ортогональними на інтервалі $[0, 1]$, якщо  \n",
      "   $$ \\int_0^1 f(x) g(x) \\, dx = 0 $$\n",
      "\n",
      "8. **Обчисліть інтеграл $\\int_0^1 x(1-x) \\, dx$ і перевірте, чи є функції $f(x) = x$ і $g(x) = 1 - x$ ортогональними.**  \n",
      "   Обчислимо інтеграл:  \n",
      "   $$ \\int_0^1 x(1-x) \\, dx = \\int_0^1 (x - x^2) \\, dx = \\left[ \\frac{x^2}{2} - \\frac{x^3}{3} \\right]_0^1 = \\frac{1}{2} - \\frac{1}{3} = \\frac{1}{6} $$  \n",
      "   Оскільки інтеграл не дорівнює нулю, функції $f(x) = x$ і $g(x) = 1 - x$ не є ортогональними.\n",
      "\n",
      "9. **Які додатки поняття ортогональності в математиці та фізиці?**  \n",
      "   Ортогональність використовується в багатьох областях, таких як:  \n",
      "   - Аналіз (ортогональні функції у розкладі по рядах Фур'є)  \n",
      "   - Комп'ютерна графіка (для визначення нормалей)  \n",
      "   - Фізика (в ортогональних системах координат)  \n",
      "   - Статистика (ортогональні регресії)\n",
      "\n",
      "10. **Як можна визначити довжину вектора $\\mathbf{v} = (3, 4)$, якщо вектори $\\mathbf{e_1} = (1, 0)$ і $\\mathbf{e_2} = (0, 1)$ є ортогональними?**  \n",
      "    Довжина вектора $\\mathbf{v}$ обчислюється за формулою:  \n",
      "    $$ |\\mathbf{v}| = \\sqrt{v_1^2 + v_2^2} = \\sqrt{3^2 + 4^2} = \\sqrt{9 + 16} = \\sqrt{25} = 5 $$  \n",
      "\n",
      "Сподіваюся, ці відповіді допоможуть вам у підготовці до екзамену!\n",
      "generating {'question': 'What is orthogonality?', 'query': {'query': 'What is orthogonality?', 'section': 'beginning'}, 'context': [], 'wolfram_answer': 'Ось відповіді на запитання щодо ортогональності:\\n\\n1. Ортогональність векторів у $\\\\mathbb{R}^n$ визначається як те, що скалярний добуток векторів дорівнює нулю. Наприклад, вектори $\\\\mathbf{u} = (1, 0)$ і $\\\\mathbf{v} = (0, 1)$ є ортогональними, оскільки їх скалярний добуток дорівнює $1 \\\\cdot 0 + 0 \\\\cdot 1 = 0$.\\n\\n2. Обчислимо скалярний добуток векторів $\\\\mathbf{u} = (2, -3, 1)$ та $\\\\mathbf{v} = (1, 2, 3)$:\\n   $$\\n   \\\\mathbf{u} \\\\cdot \\\\mathbf{v} = 2 \\\\cdot 1 + (-3) \\\\cdot 2 + 1 \\\\cdot 3 = 2 - 6 + 3 = -1.\\n   $$\\n   Вектори не є ортогональними, оскільки скалярний добуток не дорівнює нулю.\\n\\n3. Дві функції $f(x)$ та $g(x)$ вважаються ортогональними на інтервалі $[a, b]$, якщо виконується рівність:\\n   $$\\n   \\\\int_a^b f(x) g(x) \\\\, dx = 0.\\n   $$\\n\\n4. Обчислимо скалярний добуток векторів $\\\\mathbf{a} = (4, 0, -2)$ та $\\\\mathbf{b} = (1, 5, 3)$:\\n   $$\\n   \\\\mathbf{a} \\\\cdot \\\\mathbf{b} = 4 \\\\cdot 1 + 0 \\\\cdot 5 + (-2) \\\\cdot 3 = 4 + 0 - 6 = -2.\\n   $$\\n   Вектори не є ортогональними.\\n\\n5. Для функцій $f(x) = x$ та $g(x) = x^2$ на інтервалі $[0, 1]$ обчислимо інтеграл:\\n   $$\\n   \\\\int_0^1 x \\\\cdot x^2 \\\\, dx = \\\\int_0^1 x^3 \\\\, dx = \\\\left[ \\\\frac{x^4}{4} \\\\right]_0^1 = \\\\frac{1}{4}.\\n   $$\\n   Функції не є ортогональними, оскільки інтеграл не дорівнює нулю.\\n\\n6. Геометрична інтерпретація ортогональності векторів у тривимірному просторі полягає в тому, що два вектори перетинаються під прямим кутом, що можна уявити як взаємне розташування двох прямих у просторі, які не мають спільних напрямків.\\n\\n7. Вектори $\\\\mathbf{p} = (3, 4, 0)$ та $\\\\mathbf{q} = (0, 0, 5)$ є ортогональними, оскільки їх скалярний добуток дорівнює:\\n   $$\\n   \\\\mathbf{p} \\\\cdot \\\\mathbf{q} = 3 \\\\cdot 0 + 4 \\\\cdot 0 + 0 \\\\cdot 5 = 0.\\n   $$\\n\\n8. Проекція вектора $\\\\mathbf{a} = (3, 2)$ на вектор $\\\\mathbf{b} = (1, 1)$ обчислюється за формулою:\\n   $$\\n   \\\\text{proj}_{\\\\mathbf{b}} \\\\mathbf{a} = \\\\frac{\\\\mathbf{a} \\\\cdot \\\\mathbf{b}}{\\\\mathbf{b} \\\\cdot \\\\mathbf{b}} \\\\mathbf{b} = \\\\frac{3 \\\\cdot 1 + 2 \\\\cdot 1}{1 \\\\cdot 1 + 1 \\\\cdot 1} (1, 1) = \\\\frac{5}{2} (1, 1) = \\\\left( \\\\frac{5}{2}, \\\\frac{5}{2} \\\\right).\\n   $$\\n   Вектори не є ортогональними, оскільки їх скалярний добуток дорівнює $3 + 2 = 5 \\\\neq 0$.\\n\\n9. Ортогональна матриця має властивість, що її транспонована матриця дорівнює оберненій:\\n   $$\\n   \\\\mathbf{Q}^T \\\\mathbf{Q} = \\\\mathbf{I}.\\n   $$\\n   Прикладом ортогональної матриці є:\\n   $$\\n   \\\\mathbf{Q} = \\\\begin{pmatrix}\\n   1 & 0 \\\\\\\\\\n   0 & -1\\n   \\\\end{pmatrix}.\\n   $$\\n\\n10. Ортогональність використовується у методі найменших квадратів для забезпечення того, що залишки (різниця між спостережуваними та апроксимованими значеннями) є ортогональними до простору, сподівання якого моделюється. Це означає, що проекція залишків на простір пояснювальних змінних дорівнює нулю.\\n\\nЦі запитання та відповіді допоможуть вам краще зрозуміти концепцію ортогональності та її застосування в різних математичних контекстах.', 'answer': 'Ортогональність — це поняття з геометрії та лінійної алгебри, яке описує взаємне перпендикулярне розташування векторів або функцій. Два вектори в евклідовому просторі є ортогональними, якщо їх скалярний добуток дорівнює нулю. Це означає, що вони перетинаються під прямим кутом. У контексті функцій, ортогональність може бути визначена за допомогою інтегралів, де дві функції $f(x)$ і $g(x)$ є ортогональними на відрізку $[a, b]$, якщо:\\n\\n$$ \\\\int_a^b f(x) g(x) \\\\, dx = 0 $$\\n\\nОсь 10 запитань для підготовки до екзамену:\\n\\n1. Що таке ортогональні вектори? Наведіть приклад.\\n2. Доведіть, що вектори $\\\\mathbf{a} = (1, 2)$ і $\\\\mathbf{b} = (2, -1)$ не є ортогональними.\\n3. Яке геометричне значення скалярного добутку двох векторів?\\n4. Знайдіть ортогональне проекцію вектора $\\\\mathbf{a} = (3, 4)$ на вектор $\\\\mathbf{b} = (1, 0)$.\\n5. Дайте визначення ортогональної системи векторів.\\n6. Чи є вектори $\\\\mathbf{c} = (0, 5)$ і $\\\\mathbf{d} = (3, 0)$ ортогональними? Поясніть.\\n7. Які умови повинні виконуватися для того, щоб два функції $f(x)$ і $g(x)$ були ортогональними на інтервалі $[0, 1]$?\\n8. Обчисліть інтеграл $\\\\int_0^1 x(1-x) \\\\, dx$ і перевірте, чи є функції $f(x) = x$ і $g(x) = 1 - x$ ортогональними.\\n9. Які додатки поняття ортогональності в математиці та фізиці?\\n10. Якщо вектори $\\\\mathbf{e_1} = (1, 0)$ і $\\\\mathbf{e_2} = (0, 1)$ є ортогональними, то як можна визначити довжину вектора $\\\\mathbf{v} = (3, 4)$?'}\n",
      "generating {'question': 'What is orthogonality?', 'query': {'query': 'What is orthogonality?', 'section': 'beginning'}, 'context': [], 'wolfram_answer': \"Ось відповіді на запитання для підготовки до екзамену з ортогональності:\\n\\n1. **Що таке ортогональні вектори? Наведіть приклад.**  \\n   Ортогональні вектори — це вектори, які перетинаються під прямим кутом, тобто їх скалярний добуток дорівнює нулю. Наприклад, вектори $\\\\mathbf{a} = (1, 0)$ і $\\\\mathbf{b} = (0, 1)$ є ортогональними.\\n\\n2. **Доведіть, що вектори $\\\\mathbf{a} = (1, 2)$ і $\\\\mathbf{b} = (2, -1)$ не є ортогональними.**  \\n   Обчислимо скалярний добуток:  \\n   $$ \\\\mathbf{a} \\\\cdot \\\\mathbf{b} = 1 \\\\cdot 2 + 2 \\\\cdot (-1) = 2 - 2 = 0 $$  \\n   Таким чином, вектори $\\\\mathbf{a}$ і $\\\\mathbf{b}$ є ортогональними.\\n\\n3. **Яке геометричне значення скалярного добутку двох векторів?**  \\n   Скалярний добуток двох векторів дорівнює добутку їхніх довжин і косинуса кута між ними:  \\n   $$ \\\\mathbf{a} \\\\cdot \\\\mathbf{b} = |\\\\mathbf{a}| |\\\\mathbf{b}| \\\\cos(\\\\theta) $$  \\n   Якщо скалярний добуток дорівнює нулю, то вектори перетинаються під прямим кутом.\\n\\n4. **Знайдіть ортогональне проекцію вектора $\\\\mathbf{a} = (3, 4)$ на вектор $\\\\mathbf{b} = (1, 0)$.**  \\n   Ортогональна проекція вектора $\\\\mathbf{a}$ на вектор $\\\\mathbf{b}$ обчислюється за формулою:  \\n   $$ \\\\text{proj}_{\\\\mathbf{b}} \\\\mathbf{a} = \\\\frac{\\\\mathbf{a} \\\\cdot \\\\mathbf{b}}{\\\\mathbf{b} \\\\cdot \\\\mathbf{b}} \\\\mathbf{b} $$  \\n   Обчислимо:  \\n   $$ \\\\mathbf{a} \\\\cdot \\\\mathbf{b} = 3 \\\\cdot 1 + 4 \\\\cdot 0 = 3 $$  \\n   $$ \\\\mathbf{b} \\\\cdot \\\\mathbf{b} = 1 \\\\cdot 1 + 0 \\\\cdot 0 = 1 $$  \\n   Таким чином,  \\n   $$ \\\\text{proj}_{\\\\mathbf{b}} \\\\mathbf{a} = 3 \\\\cdot (1, 0) = (3, 0) $$\\n\\n5. **Дайте визначення ортогональної системи векторів.**  \\n   Ортогональна система векторів складається з векторів, які є парами ортогональними один до одного, тобто скалярний добуток будь-якої пари векторів з цієї системи дорівнює нулю.\\n\\n6. **Чи є вектори $\\\\mathbf{c} = (0, 5)$ і $\\\\mathbf{d} = (3, 0)$ ортогональними? Поясніть.**  \\n   Обчислимо скалярний добуток:  \\n   $$ \\\\mathbf{c} \\\\cdot \\\\mathbf{d} = 0 \\\\cdot 3 + 5 \\\\cdot 0 = 0 $$  \\n   Таким чином, вектори $\\\\mathbf{c}$ і $\\\\mathbf{d}$ є ортогональними.\\n\\n7. **Які умови повинні виконуватися для того, щоб два функції $f(x)$ і $g(x)$ були ортогональними на інтервалі $[0, 1]$?**  \\n   Функції $f(x)$ і $g(x)$ є ортогональними на інтервалі $[0, 1]$, якщо  \\n   $$ \\\\int_0^1 f(x) g(x) \\\\, dx = 0 $$\\n\\n8. **Обчисліть інтеграл $\\\\int_0^1 x(1-x) \\\\, dx$ і перевірте, чи є функції $f(x) = x$ і $g(x) = 1 - x$ ортогональними.**  \\n   Обчислимо інтеграл:  \\n   $$ \\\\int_0^1 x(1-x) \\\\, dx = \\\\int_0^1 (x - x^2) \\\\, dx = \\\\left[ \\\\frac{x^2}{2} - \\\\frac{x^3}{3} \\\\right]_0^1 = \\\\frac{1}{2} - \\\\frac{1}{3} = \\\\frac{1}{6} $$  \\n   Оскільки інтеграл не дорівнює нулю, функції $f(x) = x$ і $g(x) = 1 - x$ не є ортогональними.\\n\\n9. **Які додатки поняття ортогональності в математиці та фізиці?**  \\n   Ортогональність використовується в багатьох областях, таких як:  \\n   - Аналіз (ортогональні функції у розкладі по рядах Фур'є)  \\n   - Комп'ютерна графіка (для визначення нормалей)  \\n   - Фізика (в ортогональних системах координат)  \\n   - Статистика (ортогональні регресії)\\n\\n10. **Як можна визначити довжину вектора $\\\\mathbf{v} = (3, 4)$, якщо вектори $\\\\mathbf{e_1} = (1, 0)$ і $\\\\mathbf{e_2} = (0, 1)$ є ортогональними?**  \\n    Довжина вектора $\\\\mathbf{v}$ обчислюється за формулою:  \\n    $$ |\\\\mathbf{v}| = \\\\sqrt{v_1^2 + v_2^2} = \\\\sqrt{3^2 + 4^2} = \\\\sqrt{9 + 16} = \\\\sqrt{25} = 5 $$  \\n\\nСподіваюся, ці відповіді допоможуть вам у підготовці до екзамену!\", 'answer': 'Ортогональність — це властивість векторів, коли їхній скалярний добуток дорівнює нулю. У геометричному сенсі, два вектори є ортогональними, якщо вони перетинаються під прямим кутом. Це поняття часто використовується в математиці та фізиці, зокрема у векторній алгебрі та аналітичній геометрії. \\n\\nОсь 10 запитань для підготовки до іспиту з теми ортогональності та векторів:\\n\\n1. Нехай вектори $\\\\mathbf{a} = (3, 4)$ і $\\\\mathbf{b} = (4, -3)$. Чи є ці вектори ортогональними? Поясніть своє рішення.\\n\\n2. Знайдіть скалярний добуток векторів $\\\\mathbf{u} = (1, 2, 3)$ і $\\\\mathbf{v} = (4, -5, 6)$. Чи є ці вектори ортогональними?\\n\\n3. Яке з наступних пар векторів є ортогональним: $\\\\mathbf{p} = (1, 1)$ і $\\\\mathbf{q} = (1, -1)$; $\\\\mathbf{r} = (2, 2)$ і $\\\\mathbf{s} = (-2, 2)$? Поясніть.\\n\\n4. Визначте, чи вектори $\\\\mathbf{a} = (x, 2)$ і $\\\\mathbf{b} = (3, y)$ ортогональні, якщо $x + 6 = 0$ та $y - 6 = 0$.\\n\\n5. Поясніть, як можна визначити, чи є два вектори ортогональними, використовуючи їх координати.\\n\\n6. Нехай вектори $\\\\mathbf{c} = (5, 0)$ і $\\\\mathbf{d} = (0, 5)$. Обчисліть їхній скалярний добуток і підтвердіть, що вони ортогональні.\\n\\n7. Якщо вектори $\\\\mathbf{m} = (a, b)$ і $\\\\mathbf{n} = (c, d)$ ортогональні, що можна сказати про їхній скалярний добуток?\\n\\n8. Дано вектори $\\\\mathbf{p} = (2, 3)$ і $\\\\mathbf{q} = (k, -2)$, де $k$ — невідома величина. Знайдіть значення $k$, при якому вектори будуть ортогональними.\\n\\n9. Яке геометричне значення має ортогональність векторів у тривимірному просторі?\\n\\n10. Обчисліть кути між векторами $\\\\mathbf{a} = (1, 1)$ і $\\\\mathbf{b} = (1, -1)$. Чи є вони ортогональними? \\n\\nЦі запитання допоможуть вам закріпити знання про ортогональність векторів і їх властивості!'}\n"
     ]
    }
   ],
   "source": [
    "# Initialize the state\n",
    "state = State(\n",
    "    question=\"What is orthogonality?\",\n",
    "    query={},\n",
    "    context=[],\n",
    "    wolfram_answer=[],\n",
    "    answer=\"\"\n",
    ")\n",
    "\n",
    "# Run the query through the graph\n",
    "try:\n",
    "    graph_response = await graph.ainvoke(state)\n",
    "    print(graph_response)\n",
    "except Exception as e:\n",
    "    print(f\"Error: {e}\")\n"
   ]
  },
  {
   "cell_type": "code",
   "execution_count": 35,
   "metadata": {},
   "outputs": [
    {
     "ename": "NameError",
     "evalue": "name 'graph_response' is not defined",
     "output_type": "error",
     "traceback": [
      "\u001b[0;31m---------------------------------------------------------------------------\u001b[0m",
      "\u001b[0;31mNameError\u001b[0m                                 Traceback (most recent call last)",
      "Cell \u001b[0;32mIn[35], line 1\u001b[0m\n\u001b[0;32m----> 1\u001b[0m \u001b[38;5;28mprint\u001b[39m(\u001b[43mgraph_response\u001b[49m)\n",
      "\u001b[0;31mNameError\u001b[0m: name 'graph_response' is not defined"
     ]
    }
   ],
   "source": [
    "print(graph_response)\n"
   ]
  },
  {
   "cell_type": "code",
   "execution_count": null,
   "metadata": {},
   "outputs": [],
   "source": [
    "https://www.wolframalpha.com/api/v1/llm-api?input=10+densest+elemental+metals&appid=DEMO\n"
   ]
  }
 ],
 "metadata": {
  "kernelspec": {
   "display_name": "torch",
   "language": "python",
   "name": "python3"
  },
  "language_info": {
   "codemirror_mode": {
    "name": "ipython",
    "version": 3
   },
   "file_extension": ".py",
   "mimetype": "text/x-python",
   "name": "python",
   "nbconvert_exporter": "python",
   "pygments_lexer": "ipython3",
   "version": "3.12.7"
  }
 },
 "nbformat": 4,
 "nbformat_minor": 2
}
